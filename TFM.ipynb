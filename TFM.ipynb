{
 "cells": [
  {
   "cell_type": "markdown",
   "metadata": {},
   "source": [
    "# Modules, dataset and initial assessment"
   ]
  },
  {
   "cell_type": "markdown",
   "metadata": {},
   "source": [
    "**Objectives:** \n",
    "\n",
    "- Loading all the necessary Python modules that will be used during the project\n",
    "- Loading the dataset on which the algorithm will be used\n",
    "- Briefly exploring the dataset (variable content and description, missing values...)\n",
    "\n",
    "In-code comments will be preceded by the hashtag symbol (#)"
   ]
  },
  {
   "cell_type": "markdown",
   "metadata": {},
   "source": [
    "## Modules (or libraries)"
   ]
  },
  {
   "cell_type": "code",
   "execution_count": 7,
   "metadata": {},
   "outputs": [
    {
     "data": {
      "text/html": [
       "        <script type=\"text/javascript\">\n",
       "        window.PlotlyConfig = {MathJaxConfig: 'local'};\n",
       "        if (window.MathJax) {MathJax.Hub.Config({SVG: {font: \"STIX-Web\"}});}\n",
       "        if (typeof require !== 'undefined') {\n",
       "        require.undef(\"plotly\");\n",
       "        requirejs.config({\n",
       "            paths: {\n",
       "                'plotly': ['https://cdn.plot.ly/plotly-latest.min']\n",
       "            }\n",
       "        });\n",
       "        require(['plotly'], function(Plotly) {\n",
       "            window._Plotly = Plotly;\n",
       "        });\n",
       "        }\n",
       "        </script>\n",
       "        "
      ]
     },
     "metadata": {},
     "output_type": "display_data"
    },
    {
     "data": {
      "text/html": [
       "        <script type=\"text/javascript\">\n",
       "        window.PlotlyConfig = {MathJaxConfig: 'local'};\n",
       "        if (window.MathJax) {MathJax.Hub.Config({SVG: {font: \"STIX-Web\"}});}\n",
       "        if (typeof require !== 'undefined') {\n",
       "        require.undef(\"plotly\");\n",
       "        requirejs.config({\n",
       "            paths: {\n",
       "                'plotly': ['https://cdn.plot.ly/plotly-latest.min']\n",
       "            }\n",
       "        });\n",
       "        require(['plotly'], function(Plotly) {\n",
       "            window._Plotly = Plotly;\n",
       "        });\n",
       "        }\n",
       "        </script>\n",
       "        "
      ]
     },
     "metadata": {},
     "output_type": "display_data"
    }
   ],
   "source": [
    "#--- Data management ---\n",
    "\n",
    "import pandas as pd \n",
    "pd.set_option('display.max_colwidth', None) \n",
    "pd.set_option('display.max_columns', None) \n",
    "import datetime \n",
    "import numpy as np\n",
    "\n",
    "#--- visualization ---\n",
    "\n",
    "import matplotlib.pyplot as plt\n",
    "import chart_studio.plotly as py\n",
    "import cufflinks as cf\n",
    "import seaborn as sns\n",
    "import plotly.express as px\n",
    "import plotly.graph_objects as go\n",
    "%matplotlib inline\n",
    "import cufflinks as cf\n",
    "from plotly.offline import download_plotlyjs, init_notebook_mode, plot, iplot\n",
    "init_notebook_mode(connected=True)\n",
    "cf.go_offline()\n",
    "sns.set_theme()\n",
    "sns.set_style(\"whitegrid\")\n",
    "\n",
    "#--- models/algorithms ---\n",
    "\n",
    "from sklearn.ensemble import RandomForestClassifier\n",
    "from sklearn.model_selection import train_test_split\n",
    "from sklearn import metrics\n",
    "from sklearn.preprocessing import StandardScaler"
   ]
  },
  {
   "cell_type": "markdown",
   "metadata": {},
   "source": [
    "## Dataset"
   ]
  },
  {
   "cell_type": "code",
   "execution_count": 8,
   "metadata": {},
   "outputs": [
    {
     "data": {
      "text/html": [
       "<div>\n",
       "<style scoped>\n",
       "    .dataframe tbody tr th:only-of-type {\n",
       "        vertical-align: middle;\n",
       "    }\n",
       "\n",
       "    .dataframe tbody tr th {\n",
       "        vertical-align: top;\n",
       "    }\n",
       "\n",
       "    .dataframe thead th {\n",
       "        text-align: right;\n",
       "    }\n",
       "</style>\n",
       "<table border=\"1\" class=\"dataframe\">\n",
       "  <thead>\n",
       "    <tr style=\"text-align: right;\">\n",
       "      <th></th>\n",
       "      <th>Employee_Name</th>\n",
       "      <th>EmpID</th>\n",
       "      <th>MarriedID</th>\n",
       "      <th>MaritalStatusID</th>\n",
       "      <th>GenderID</th>\n",
       "      <th>EmpStatusID</th>\n",
       "      <th>DeptID</th>\n",
       "      <th>PerfScoreID</th>\n",
       "      <th>FromDiversityJobFairID</th>\n",
       "      <th>Salary</th>\n",
       "      <th>Termd</th>\n",
       "      <th>PositionID</th>\n",
       "      <th>Position</th>\n",
       "      <th>State</th>\n",
       "      <th>Zip</th>\n",
       "      <th>DOB</th>\n",
       "      <th>Sex</th>\n",
       "      <th>MaritalDesc</th>\n",
       "      <th>CitizenDesc</th>\n",
       "      <th>HispanicLatino</th>\n",
       "      <th>RaceDesc</th>\n",
       "      <th>DateofHire</th>\n",
       "      <th>DateofTermination</th>\n",
       "      <th>TermReason</th>\n",
       "      <th>EmploymentStatus</th>\n",
       "      <th>Department</th>\n",
       "      <th>ManagerName</th>\n",
       "      <th>ManagerID</th>\n",
       "      <th>RecruitmentSource</th>\n",
       "      <th>PerformanceScore</th>\n",
       "      <th>EngagementSurvey</th>\n",
       "      <th>EmpSatisfaction</th>\n",
       "      <th>SpecialProjectsCount</th>\n",
       "      <th>LastPerformanceReview_Date</th>\n",
       "      <th>DaysLateLast30</th>\n",
       "      <th>Absences</th>\n",
       "    </tr>\n",
       "  </thead>\n",
       "  <tbody>\n",
       "    <tr>\n",
       "      <th>0</th>\n",
       "      <td>Adinolfi, Wilson  K</td>\n",
       "      <td>10026</td>\n",
       "      <td>0</td>\n",
       "      <td>0</td>\n",
       "      <td>1</td>\n",
       "      <td>1</td>\n",
       "      <td>5</td>\n",
       "      <td>4</td>\n",
       "      <td>0</td>\n",
       "      <td>62506</td>\n",
       "      <td>0</td>\n",
       "      <td>19</td>\n",
       "      <td>Production Technician I</td>\n",
       "      <td>MA</td>\n",
       "      <td>1960</td>\n",
       "      <td>07/10/83</td>\n",
       "      <td>M</td>\n",
       "      <td>Single</td>\n",
       "      <td>US Citizen</td>\n",
       "      <td>No</td>\n",
       "      <td>White</td>\n",
       "      <td>7/5/2011</td>\n",
       "      <td>NaN</td>\n",
       "      <td>N/A-StillEmployed</td>\n",
       "      <td>Active</td>\n",
       "      <td>Production</td>\n",
       "      <td>Michael Albert</td>\n",
       "      <td>22.0</td>\n",
       "      <td>LinkedIn</td>\n",
       "      <td>Exceeds</td>\n",
       "      <td>4.60</td>\n",
       "      <td>5</td>\n",
       "      <td>0</td>\n",
       "      <td>1/17/2019</td>\n",
       "      <td>0</td>\n",
       "      <td>1</td>\n",
       "    </tr>\n",
       "    <tr>\n",
       "      <th>1</th>\n",
       "      <td>Ait Sidi, Karthikeyan</td>\n",
       "      <td>10084</td>\n",
       "      <td>1</td>\n",
       "      <td>1</td>\n",
       "      <td>1</td>\n",
       "      <td>5</td>\n",
       "      <td>3</td>\n",
       "      <td>3</td>\n",
       "      <td>0</td>\n",
       "      <td>104437</td>\n",
       "      <td>1</td>\n",
       "      <td>27</td>\n",
       "      <td>Sr. DBA</td>\n",
       "      <td>MA</td>\n",
       "      <td>2148</td>\n",
       "      <td>05/05/75</td>\n",
       "      <td>M</td>\n",
       "      <td>Married</td>\n",
       "      <td>US Citizen</td>\n",
       "      <td>No</td>\n",
       "      <td>White</td>\n",
       "      <td>3/30/2015</td>\n",
       "      <td>6/16/2016</td>\n",
       "      <td>career change</td>\n",
       "      <td>Voluntarily Terminated</td>\n",
       "      <td>IT/IS</td>\n",
       "      <td>Simon Roup</td>\n",
       "      <td>4.0</td>\n",
       "      <td>Indeed</td>\n",
       "      <td>Fully Meets</td>\n",
       "      <td>4.96</td>\n",
       "      <td>3</td>\n",
       "      <td>6</td>\n",
       "      <td>2/24/2016</td>\n",
       "      <td>0</td>\n",
       "      <td>17</td>\n",
       "    </tr>\n",
       "    <tr>\n",
       "      <th>2</th>\n",
       "      <td>Akinkuolie, Sarah</td>\n",
       "      <td>10196</td>\n",
       "      <td>1</td>\n",
       "      <td>1</td>\n",
       "      <td>0</td>\n",
       "      <td>5</td>\n",
       "      <td>5</td>\n",
       "      <td>3</td>\n",
       "      <td>0</td>\n",
       "      <td>64955</td>\n",
       "      <td>1</td>\n",
       "      <td>20</td>\n",
       "      <td>Production Technician II</td>\n",
       "      <td>MA</td>\n",
       "      <td>1810</td>\n",
       "      <td>09/19/88</td>\n",
       "      <td>F</td>\n",
       "      <td>Married</td>\n",
       "      <td>US Citizen</td>\n",
       "      <td>No</td>\n",
       "      <td>White</td>\n",
       "      <td>7/5/2011</td>\n",
       "      <td>9/24/2012</td>\n",
       "      <td>hours</td>\n",
       "      <td>Voluntarily Terminated</td>\n",
       "      <td>Production</td>\n",
       "      <td>Kissy Sullivan</td>\n",
       "      <td>20.0</td>\n",
       "      <td>LinkedIn</td>\n",
       "      <td>Fully Meets</td>\n",
       "      <td>3.02</td>\n",
       "      <td>3</td>\n",
       "      <td>0</td>\n",
       "      <td>5/15/2012</td>\n",
       "      <td>0</td>\n",
       "      <td>3</td>\n",
       "    </tr>\n",
       "    <tr>\n",
       "      <th>3</th>\n",
       "      <td>Alagbe,Trina</td>\n",
       "      <td>10088</td>\n",
       "      <td>1</td>\n",
       "      <td>1</td>\n",
       "      <td>0</td>\n",
       "      <td>1</td>\n",
       "      <td>5</td>\n",
       "      <td>3</td>\n",
       "      <td>0</td>\n",
       "      <td>64991</td>\n",
       "      <td>0</td>\n",
       "      <td>19</td>\n",
       "      <td>Production Technician I</td>\n",
       "      <td>MA</td>\n",
       "      <td>1886</td>\n",
       "      <td>09/27/88</td>\n",
       "      <td>F</td>\n",
       "      <td>Married</td>\n",
       "      <td>US Citizen</td>\n",
       "      <td>No</td>\n",
       "      <td>White</td>\n",
       "      <td>1/7/2008</td>\n",
       "      <td>NaN</td>\n",
       "      <td>N/A-StillEmployed</td>\n",
       "      <td>Active</td>\n",
       "      <td>Production</td>\n",
       "      <td>Elijiah Gray</td>\n",
       "      <td>16.0</td>\n",
       "      <td>Indeed</td>\n",
       "      <td>Fully Meets</td>\n",
       "      <td>4.84</td>\n",
       "      <td>5</td>\n",
       "      <td>0</td>\n",
       "      <td>1/3/2019</td>\n",
       "      <td>0</td>\n",
       "      <td>15</td>\n",
       "    </tr>\n",
       "    <tr>\n",
       "      <th>4</th>\n",
       "      <td>Anderson, Carol</td>\n",
       "      <td>10069</td>\n",
       "      <td>0</td>\n",
       "      <td>2</td>\n",
       "      <td>0</td>\n",
       "      <td>5</td>\n",
       "      <td>5</td>\n",
       "      <td>3</td>\n",
       "      <td>0</td>\n",
       "      <td>50825</td>\n",
       "      <td>1</td>\n",
       "      <td>19</td>\n",
       "      <td>Production Technician I</td>\n",
       "      <td>MA</td>\n",
       "      <td>2169</td>\n",
       "      <td>09/08/89</td>\n",
       "      <td>F</td>\n",
       "      <td>Divorced</td>\n",
       "      <td>US Citizen</td>\n",
       "      <td>No</td>\n",
       "      <td>White</td>\n",
       "      <td>7/11/2011</td>\n",
       "      <td>9/6/2016</td>\n",
       "      <td>return to school</td>\n",
       "      <td>Voluntarily Terminated</td>\n",
       "      <td>Production</td>\n",
       "      <td>Webster Butler</td>\n",
       "      <td>39.0</td>\n",
       "      <td>Google Search</td>\n",
       "      <td>Fully Meets</td>\n",
       "      <td>5.00</td>\n",
       "      <td>4</td>\n",
       "      <td>0</td>\n",
       "      <td>2/1/2016</td>\n",
       "      <td>0</td>\n",
       "      <td>2</td>\n",
       "    </tr>\n",
       "  </tbody>\n",
       "</table>\n",
       "</div>"
      ],
      "text/plain": [
       "              Employee_Name  EmpID  MarriedID  MaritalStatusID  GenderID  \\\n",
       "0       Adinolfi, Wilson  K  10026          0                0         1   \n",
       "1  Ait Sidi, Karthikeyan     10084          1                1         1   \n",
       "2         Akinkuolie, Sarah  10196          1                1         0   \n",
       "3              Alagbe,Trina  10088          1                1         0   \n",
       "4          Anderson, Carol   10069          0                2         0   \n",
       "\n",
       "   EmpStatusID  DeptID  PerfScoreID  FromDiversityJobFairID  Salary  Termd  \\\n",
       "0            1       5            4                       0   62506      0   \n",
       "1            5       3            3                       0  104437      1   \n",
       "2            5       5            3                       0   64955      1   \n",
       "3            1       5            3                       0   64991      0   \n",
       "4            5       5            3                       0   50825      1   \n",
       "\n",
       "   PositionID                  Position State   Zip       DOB Sex MaritalDesc  \\\n",
       "0          19   Production Technician I    MA  1960  07/10/83  M       Single   \n",
       "1          27                   Sr. DBA    MA  2148  05/05/75  M      Married   \n",
       "2          20  Production Technician II    MA  1810  09/19/88   F     Married   \n",
       "3          19   Production Technician I    MA  1886  09/27/88   F     Married   \n",
       "4          19   Production Technician I    MA  2169  09/08/89   F    Divorced   \n",
       "\n",
       "  CitizenDesc HispanicLatino RaceDesc DateofHire DateofTermination  \\\n",
       "0  US Citizen             No    White   7/5/2011               NaN   \n",
       "1  US Citizen             No    White  3/30/2015         6/16/2016   \n",
       "2  US Citizen             No    White   7/5/2011         9/24/2012   \n",
       "3  US Citizen             No    White   1/7/2008               NaN   \n",
       "4  US Citizen             No    White  7/11/2011          9/6/2016   \n",
       "\n",
       "          TermReason        EmploymentStatus         Department  \\\n",
       "0  N/A-StillEmployed                  Active  Production          \n",
       "1      career change  Voluntarily Terminated              IT/IS   \n",
       "2              hours  Voluntarily Terminated  Production          \n",
       "3  N/A-StillEmployed                  Active  Production          \n",
       "4   return to school  Voluntarily Terminated  Production          \n",
       "\n",
       "      ManagerName  ManagerID RecruitmentSource PerformanceScore  \\\n",
       "0  Michael Albert       22.0          LinkedIn          Exceeds   \n",
       "1      Simon Roup        4.0            Indeed      Fully Meets   \n",
       "2  Kissy Sullivan       20.0          LinkedIn      Fully Meets   \n",
       "3    Elijiah Gray       16.0            Indeed      Fully Meets   \n",
       "4  Webster Butler       39.0     Google Search      Fully Meets   \n",
       "\n",
       "   EngagementSurvey  EmpSatisfaction  SpecialProjectsCount  \\\n",
       "0              4.60                5                     0   \n",
       "1              4.96                3                     6   \n",
       "2              3.02                3                     0   \n",
       "3              4.84                5                     0   \n",
       "4              5.00                4                     0   \n",
       "\n",
       "  LastPerformanceReview_Date  DaysLateLast30  Absences  \n",
       "0                  1/17/2019               0         1  \n",
       "1                  2/24/2016               0        17  \n",
       "2                  5/15/2012               0         3  \n",
       "3                   1/3/2019               0        15  \n",
       "4                   2/1/2016               0         2  "
      ]
     },
     "execution_count": 8,
     "metadata": {},
     "output_type": "execute_result"
    }
   ],
   "source": [
    "link_df = \"https://raw.githubusercontent.com/darista92/TFM/main/HRDataset_v14.csv\"\n",
    "\n",
    "df = pd.read_csv(link_df) \n",
    "\n",
    "df.head() # first 5 rows of the dataset"
   ]
  },
  {
   "cell_type": "markdown",
   "metadata": {},
   "source": [
    "The initial dataset consists of 311 rows and 36 columns"
   ]
  },
  {
   "cell_type": "code",
   "execution_count": 9,
   "metadata": {},
   "outputs": [
    {
     "data": {
      "text/plain": [
       "(311, 36)"
      ]
     },
     "execution_count": 9,
     "metadata": {},
     "output_type": "execute_result"
    }
   ],
   "source": [
    "df.shape "
   ]
  },
  {
   "cell_type": "markdown",
   "metadata": {},
   "source": [
    "## Variable description"
   ]
  },
  {
   "cell_type": "markdown",
   "metadata": {},
   "source": [
    "A new dataset is created, containing the description of each variable, the desired type of the variables (as retrieved from the source) and the variable type assigned by default once loading the dataset into a dataframe object. From now on, dataset and dataframe terms will be used analogously to refer to a table-shaped group of data.\n",
    "\n",
    "This \"description dataframe\" will be used for better recalling the meaning of each feature\n",
    "\n"
   ]
  },
  {
   "cell_type": "markdown",
   "metadata": {},
   "source": [
    "Source = https://rpubs.com/rhuebner/hr_codebook_v14"
   ]
  },
  {
   "cell_type": "code",
   "execution_count": 10,
   "metadata": {},
   "outputs": [],
   "source": [
    "link_scrapped_df = \"https://raw.githubusercontent.com/darista92/TFM/main/Description_scrapped.csv\"\n",
    "scrapped_df = pd.read_csv(link_scrapped_df, delimiter=\";\") # conjunto de datos con las variables explicadas"
   ]
  },
  {
   "cell_type": "code",
   "execution_count": 11,
   "metadata": {},
   "outputs": [],
   "source": [
    "# preparación de variables para la creación de la tabla de referencia\n",
    "\n",
    "columns = df.columns # columnas del conjunto original\n",
    "description = scrapped_df.Description # descripción de cada variable\n",
    "var_type = scrapped_df.DataType # tipo de cada variable (deseado)\n",
    "real_var_type = list(df.dtypes) # tipos de cada variable al importar el dataset en Python\n",
    "\n",
    "# eliminación momentánea de la columna \"GenderID\", ya que no posee descripción en la fuente original\n",
    "\n",
    "columns = columns.drop(\"GenderID\")\n"
   ]
  },
  {
   "cell_type": "code",
   "execution_count": 6,
   "metadata": {},
   "outputs": [
    {
     "data": {
      "text/html": [
       "<div>\n",
       "<style scoped>\n",
       "    .dataframe tbody tr th:only-of-type {\n",
       "        vertical-align: middle;\n",
       "    }\n",
       "\n",
       "    .dataframe tbody tr th {\n",
       "        vertical-align: top;\n",
       "    }\n",
       "\n",
       "    .dataframe thead th {\n",
       "        text-align: right;\n",
       "    }\n",
       "</style>\n",
       "<table border=\"1\" class=\"dataframe\">\n",
       "  <thead>\n",
       "    <tr style=\"text-align: right;\">\n",
       "      <th></th>\n",
       "      <th>columnas</th>\n",
       "      <th>descripcion</th>\n",
       "      <th>Tipo_Variable</th>\n",
       "      <th>Tipo_VReal</th>\n",
       "    </tr>\n",
       "  </thead>\n",
       "  <tbody>\n",
       "    <tr>\n",
       "      <th>0</th>\n",
       "      <td>Employee_Name</td>\n",
       "      <td>Employees full name</td>\n",
       "      <td>Text</td>\n",
       "      <td>object</td>\n",
       "    </tr>\n",
       "    <tr>\n",
       "      <th>1</th>\n",
       "      <td>EmpID</td>\n",
       "      <td>Employee ID is unique to each employee</td>\n",
       "      <td>Text</td>\n",
       "      <td>int64</td>\n",
       "    </tr>\n",
       "    <tr>\n",
       "      <th>2</th>\n",
       "      <td>MarriedID</td>\n",
       "      <td>Is the person married (1 or 0 for yes or no)</td>\n",
       "      <td>Binary</td>\n",
       "      <td>int64</td>\n",
       "    </tr>\n",
       "    <tr>\n",
       "      <th>3</th>\n",
       "      <td>MaritalStatusID</td>\n",
       "      <td>Marital status code that matches the text field MaritalDesc</td>\n",
       "      <td>Integer</td>\n",
       "      <td>int64</td>\n",
       "    </tr>\n",
       "    <tr>\n",
       "      <th>4</th>\n",
       "      <td>EmpStatusID</td>\n",
       "      <td>Employment status code that matches text field EmploymentStatus</td>\n",
       "      <td>Integer</td>\n",
       "      <td>int64</td>\n",
       "    </tr>\n",
       "    <tr>\n",
       "      <th>5</th>\n",
       "      <td>DeptID</td>\n",
       "      <td>Department ID code that matches the department the employee works in</td>\n",
       "      <td>Integer</td>\n",
       "      <td>int64</td>\n",
       "    </tr>\n",
       "    <tr>\n",
       "      <th>6</th>\n",
       "      <td>PerfScoreID</td>\n",
       "      <td>Performance Score code that matches the employees most recent performance score</td>\n",
       "      <td>Integer</td>\n",
       "      <td>int64</td>\n",
       "    </tr>\n",
       "    <tr>\n",
       "      <th>7</th>\n",
       "      <td>FromDiversityJobFairID</td>\n",
       "      <td>Was the employee sourced from the Diversity job fair? 1 or 0 for yes or no</td>\n",
       "      <td>Binary</td>\n",
       "      <td>int64</td>\n",
       "    </tr>\n",
       "    <tr>\n",
       "      <th>8</th>\n",
       "      <td>Salary</td>\n",
       "      <td>The persons hourly pay rate. All salaries are converted to hourly pay rate</td>\n",
       "      <td>Float</td>\n",
       "      <td>int64</td>\n",
       "    </tr>\n",
       "    <tr>\n",
       "      <th>9</th>\n",
       "      <td>Termd</td>\n",
       "      <td>Has this employee been terminated - 1 or 0</td>\n",
       "      <td>Binary</td>\n",
       "      <td>int64</td>\n",
       "    </tr>\n",
       "    <tr>\n",
       "      <th>10</th>\n",
       "      <td>PositionID</td>\n",
       "      <td>An integer indicating the persons position</td>\n",
       "      <td>Integer</td>\n",
       "      <td>int64</td>\n",
       "    </tr>\n",
       "    <tr>\n",
       "      <th>11</th>\n",
       "      <td>Position</td>\n",
       "      <td>The text name/title of the position the person has</td>\n",
       "      <td>Text</td>\n",
       "      <td>int64</td>\n",
       "    </tr>\n",
       "    <tr>\n",
       "      <th>12</th>\n",
       "      <td>State</td>\n",
       "      <td>The state that the person lives in</td>\n",
       "      <td>Text</td>\n",
       "      <td>object</td>\n",
       "    </tr>\n",
       "    <tr>\n",
       "      <th>13</th>\n",
       "      <td>Zip</td>\n",
       "      <td>The zip code for the employee</td>\n",
       "      <td>Text</td>\n",
       "      <td>object</td>\n",
       "    </tr>\n",
       "    <tr>\n",
       "      <th>14</th>\n",
       "      <td>DOB</td>\n",
       "      <td>Date of Birth for the employee</td>\n",
       "      <td>Date</td>\n",
       "      <td>int64</td>\n",
       "    </tr>\n",
       "    <tr>\n",
       "      <th>15</th>\n",
       "      <td>Sex</td>\n",
       "      <td>Sex - M or F</td>\n",
       "      <td>Text</td>\n",
       "      <td>object</td>\n",
       "    </tr>\n",
       "    <tr>\n",
       "      <th>16</th>\n",
       "      <td>MaritalDesc</td>\n",
       "      <td>The marital status of the person (divorced, single, widowed, separated, etc)</td>\n",
       "      <td>Text</td>\n",
       "      <td>object</td>\n",
       "    </tr>\n",
       "    <tr>\n",
       "      <th>17</th>\n",
       "      <td>CitizenDesc</td>\n",
       "      <td>Label for whether the person is a Citizen or Eligible NonCitizen</td>\n",
       "      <td>Text</td>\n",
       "      <td>object</td>\n",
       "    </tr>\n",
       "    <tr>\n",
       "      <th>18</th>\n",
       "      <td>HispanicLatino</td>\n",
       "      <td>Yes or No field for whether the employee is Hispanic/Latino</td>\n",
       "      <td>Text</td>\n",
       "      <td>object</td>\n",
       "    </tr>\n",
       "    <tr>\n",
       "      <th>19</th>\n",
       "      <td>RaceDesc</td>\n",
       "      <td>Description/text of the race the person identifies with</td>\n",
       "      <td>Text</td>\n",
       "      <td>object</td>\n",
       "    </tr>\n",
       "    <tr>\n",
       "      <th>20</th>\n",
       "      <td>DateofHire</td>\n",
       "      <td>Date the person was hired</td>\n",
       "      <td>Date</td>\n",
       "      <td>object</td>\n",
       "    </tr>\n",
       "    <tr>\n",
       "      <th>21</th>\n",
       "      <td>DateofTermination</td>\n",
       "      <td>Date the person was terminated, only populated if, in fact, Termd = 1</td>\n",
       "      <td>Date</td>\n",
       "      <td>object</td>\n",
       "    </tr>\n",
       "    <tr>\n",
       "      <th>22</th>\n",
       "      <td>TermReason</td>\n",
       "      <td>A text reason / description for why the person was terminated</td>\n",
       "      <td>Text</td>\n",
       "      <td>object</td>\n",
       "    </tr>\n",
       "    <tr>\n",
       "      <th>23</th>\n",
       "      <td>EmploymentStatus</td>\n",
       "      <td>A description/category of the persons employment status. Anyone currently working full time = Active</td>\n",
       "      <td>Text</td>\n",
       "      <td>object</td>\n",
       "    </tr>\n",
       "    <tr>\n",
       "      <th>24</th>\n",
       "      <td>Department</td>\n",
       "      <td>Name of the department that the person works in</td>\n",
       "      <td>Text</td>\n",
       "      <td>object</td>\n",
       "    </tr>\n",
       "    <tr>\n",
       "      <th>25</th>\n",
       "      <td>ManagerName</td>\n",
       "      <td>The name of the persons immediate manager</td>\n",
       "      <td>Text</td>\n",
       "      <td>object</td>\n",
       "    </tr>\n",
       "    <tr>\n",
       "      <th>26</th>\n",
       "      <td>ManagerID</td>\n",
       "      <td>A unique identifier for each manager.</td>\n",
       "      <td>Integer</td>\n",
       "      <td>object</td>\n",
       "    </tr>\n",
       "    <tr>\n",
       "      <th>27</th>\n",
       "      <td>RecruitmentSource</td>\n",
       "      <td>The name of the recruitment source where the employee was recruited from</td>\n",
       "      <td>Text</td>\n",
       "      <td>float64</td>\n",
       "    </tr>\n",
       "    <tr>\n",
       "      <th>28</th>\n",
       "      <td>PerformanceScore</td>\n",
       "      <td>Performance Score text/category (Fully Meets, Partially Meets, PIP, Exceeds)</td>\n",
       "      <td>Text</td>\n",
       "      <td>object</td>\n",
       "    </tr>\n",
       "    <tr>\n",
       "      <th>29</th>\n",
       "      <td>EngagementSurvey</td>\n",
       "      <td>Results from the last engagement survey, managed by our external partner</td>\n",
       "      <td>Float</td>\n",
       "      <td>object</td>\n",
       "    </tr>\n",
       "    <tr>\n",
       "      <th>30</th>\n",
       "      <td>EmpSatisfaction</td>\n",
       "      <td>A basic satisfaction score between 1 and 5, as reported on a recent employee satisfaction survey</td>\n",
       "      <td>Integer</td>\n",
       "      <td>float64</td>\n",
       "    </tr>\n",
       "    <tr>\n",
       "      <th>31</th>\n",
       "      <td>SpecialProjectsCount</td>\n",
       "      <td>The number of special projects that the employee worked on during the last 6 months</td>\n",
       "      <td>Integer</td>\n",
       "      <td>int64</td>\n",
       "    </tr>\n",
       "    <tr>\n",
       "      <th>32</th>\n",
       "      <td>LastPerformanceReview_Date</td>\n",
       "      <td>The most recent date of the persons last performance review.</td>\n",
       "      <td>Date</td>\n",
       "      <td>int64</td>\n",
       "    </tr>\n",
       "    <tr>\n",
       "      <th>33</th>\n",
       "      <td>DaysLateLast30</td>\n",
       "      <td>The number of times that the employee was late to work during the last 30 days</td>\n",
       "      <td>Integer</td>\n",
       "      <td>object</td>\n",
       "    </tr>\n",
       "    <tr>\n",
       "      <th>34</th>\n",
       "      <td>Absences</td>\n",
       "      <td>The number of times the employee was absent from work.</td>\n",
       "      <td>Integer</td>\n",
       "      <td>int64</td>\n",
       "    </tr>\n",
       "    <tr>\n",
       "      <th>35</th>\n",
       "      <td>GenderID</td>\n",
       "      <td>1=Masculine</td>\n",
       "      <td>Binary</td>\n",
       "      <td>int64</td>\n",
       "    </tr>\n",
       "  </tbody>\n",
       "</table>\n",
       "</div>"
      ],
      "text/plain": [
       "                      columnas  \\\n",
       "0                Employee_Name   \n",
       "1                        EmpID   \n",
       "2                    MarriedID   \n",
       "3              MaritalStatusID   \n",
       "4                  EmpStatusID   \n",
       "5                       DeptID   \n",
       "6                  PerfScoreID   \n",
       "7       FromDiversityJobFairID   \n",
       "8                       Salary   \n",
       "9                        Termd   \n",
       "10                  PositionID   \n",
       "11                    Position   \n",
       "12                       State   \n",
       "13                         Zip   \n",
       "14                         DOB   \n",
       "15                         Sex   \n",
       "16                 MaritalDesc   \n",
       "17                 CitizenDesc   \n",
       "18              HispanicLatino   \n",
       "19                    RaceDesc   \n",
       "20                  DateofHire   \n",
       "21           DateofTermination   \n",
       "22                  TermReason   \n",
       "23            EmploymentStatus   \n",
       "24                  Department   \n",
       "25                 ManagerName   \n",
       "26                   ManagerID   \n",
       "27           RecruitmentSource   \n",
       "28            PerformanceScore   \n",
       "29            EngagementSurvey   \n",
       "30             EmpSatisfaction   \n",
       "31        SpecialProjectsCount   \n",
       "32  LastPerformanceReview_Date   \n",
       "33              DaysLateLast30   \n",
       "34                    Absences   \n",
       "35                    GenderID   \n",
       "\n",
       "                                                                                             descripcion  \\\n",
       "0                                                                                    Employees full name   \n",
       "1                                                                 Employee ID is unique to each employee   \n",
       "2                                                           Is the person married (1 or 0 for yes or no)   \n",
       "3                                            Marital status code that matches the text field MaritalDesc   \n",
       "4                                        Employment status code that matches text field EmploymentStatus   \n",
       "5                                   Department ID code that matches the department the employee works in   \n",
       "6                        Performance Score code that matches the employees most recent performance score   \n",
       "7                             Was the employee sourced from the Diversity job fair? 1 or 0 for yes or no   \n",
       "8                             The persons hourly pay rate. All salaries are converted to hourly pay rate   \n",
       "9                                                             Has this employee been terminated - 1 or 0   \n",
       "10                                                            An integer indicating the persons position   \n",
       "11                                                    The text name/title of the position the person has   \n",
       "12                                                                    The state that the person lives in   \n",
       "13                                                                         The zip code for the employee   \n",
       "14                                                                        Date of Birth for the employee   \n",
       "15                                                                                          Sex - M or F   \n",
       "16                          The marital status of the person (divorced, single, widowed, separated, etc)   \n",
       "17                                      Label for whether the person is a Citizen or Eligible NonCitizen   \n",
       "18                                           Yes or No field for whether the employee is Hispanic/Latino   \n",
       "19                                               Description/text of the race the person identifies with   \n",
       "20                                                                             Date the person was hired   \n",
       "21                                 Date the person was terminated, only populated if, in fact, Termd = 1   \n",
       "22                                         A text reason / description for why the person was terminated   \n",
       "23  A description/category of the persons employment status. Anyone currently working full time = Active   \n",
       "24                                                       Name of the department that the person works in   \n",
       "25                                                             The name of the persons immediate manager   \n",
       "26                                                                 A unique identifier for each manager.   \n",
       "27                              The name of the recruitment source where the employee was recruited from   \n",
       "28                          Performance Score text/category (Fully Meets, Partially Meets, PIP, Exceeds)   \n",
       "29                              Results from the last engagement survey, managed by our external partner   \n",
       "30      A basic satisfaction score between 1 and 5, as reported on a recent employee satisfaction survey   \n",
       "31                   The number of special projects that the employee worked on during the last 6 months   \n",
       "32                                          The most recent date of the persons last performance review.   \n",
       "33                        The number of times that the employee was late to work during the last 30 days   \n",
       "34                                                The number of times the employee was absent from work.   \n",
       "35                                                                                           1=Masculine   \n",
       "\n",
       "   Tipo_Variable Tipo_VReal  \n",
       "0           Text     object  \n",
       "1           Text      int64  \n",
       "2         Binary      int64  \n",
       "3        Integer      int64  \n",
       "4        Integer      int64  \n",
       "5        Integer      int64  \n",
       "6        Integer      int64  \n",
       "7         Binary      int64  \n",
       "8          Float      int64  \n",
       "9         Binary      int64  \n",
       "10       Integer      int64  \n",
       "11          Text      int64  \n",
       "12          Text     object  \n",
       "13          Text     object  \n",
       "14          Date      int64  \n",
       "15          Text     object  \n",
       "16          Text     object  \n",
       "17          Text     object  \n",
       "18          Text     object  \n",
       "19          Text     object  \n",
       "20          Date     object  \n",
       "21          Date     object  \n",
       "22          Text     object  \n",
       "23          Text     object  \n",
       "24          Text     object  \n",
       "25          Text     object  \n",
       "26       Integer     object  \n",
       "27          Text    float64  \n",
       "28          Text     object  \n",
       "29         Float     object  \n",
       "30       Integer    float64  \n",
       "31       Integer      int64  \n",
       "32          Date      int64  \n",
       "33       Integer     object  \n",
       "34       Integer      int64  \n",
       "35        Binary      int64  "
      ]
     },
     "execution_count": 6,
     "metadata": {},
     "output_type": "execute_result"
    }
   ],
   "source": [
    "# creación de la tabla de referencia\n",
    "\n",
    "df_cheatsheet = pd.DataFrame({\"columns\":columns, \"description\":description, \"var_type\":var_type})\n",
    "\n",
    "GenderID = {\"columns\": \"GenderID\", \"descripcion\":\"1=Masculine\", \"Tipo_Variable\":\"Binary\"}\n",
    "\n",
    "df_cheatsheet = df_cheatsheet.append(GenderID, ignore_index=True)\n",
    "\n",
    "df_cheatsheet[\"Tipo_VReal\"] = Tipo_VReal\n",
    "\n",
    "df_cheatsheet"
   ]
  },
  {
   "cell_type": "markdown",
   "metadata": {},
   "source": [
    "## Valores perdidos"
   ]
  },
  {
   "cell_type": "code",
   "execution_count": 7,
   "metadata": {},
   "outputs": [
    {
     "name": "stdout",
     "output_type": "stream",
     "text": [
      "Employee_Name                   0\n",
      "EmpID                           0\n",
      "MarriedID                       0\n",
      "MaritalStatusID                 0\n",
      "GenderID                        0\n",
      "EmpStatusID                     0\n",
      "DeptID                          0\n",
      "PerfScoreID                     0\n",
      "FromDiversityJobFairID          0\n",
      "Salary                          0\n",
      "Termd                           0\n",
      "PositionID                      0\n",
      "Position                        0\n",
      "State                           0\n",
      "Zip                             0\n",
      "DOB                             0\n",
      "Sex                             0\n",
      "MaritalDesc                     0\n",
      "CitizenDesc                     0\n",
      "HispanicLatino                  0\n",
      "RaceDesc                        0\n",
      "DateofHire                      0\n",
      "DateofTermination             207\n",
      "TermReason                      0\n",
      "EmploymentStatus                0\n",
      "Department                      0\n",
      "ManagerName                     0\n",
      "ManagerID                       8\n",
      "RecruitmentSource               0\n",
      "PerformanceScore                0\n",
      "EngagementSurvey                0\n",
      "EmpSatisfaction                 0\n",
      "SpecialProjectsCount            0\n",
      "LastPerformanceReview_Date      0\n",
      "DaysLateLast30                  0\n",
      "Absences                        0\n",
      "dtype: int64\n"
     ]
    }
   ],
   "source": [
    "missing_val = df.isnull().sum() \n",
    "\n",
    "print(missing_val)\n"
   ]
  },
  {
   "cell_type": "code",
   "execution_count": 8,
   "metadata": {},
   "outputs": [
    {
     "name": "stdout",
     "output_type": "stream",
     "text": [
      "DateofTermination    207\n",
      "ManagerID              8\n",
      "dtype: int64\n"
     ]
    }
   ],
   "source": [
    "cols_miss_val = missing_val[missing_val > 0]\n",
    "\n",
    "print(cols_miss_val)"
   ]
  },
  {
   "cell_type": "markdown",
   "metadata": {},
   "source": [
    "# EDA"
   ]
  },
  {
   "cell_type": "markdown",
   "metadata": {},
   "source": [
    "**Objetivos:**\n",
    "\n",
    "- Entender mejor el conjunto de datos\n",
    "- Visualizar algunas de las variables más importantes y su distribución\n",
    "- Establecer comparaciones entre variables"
   ]
  },
  {
   "cell_type": "code",
   "execution_count": 9,
   "metadata": {},
   "outputs": [],
   "source": [
    "def make_autopct(values):\n",
    "    def my_autopct(pct):\n",
    "        total = sum(values)\n",
    "        val = int(round(pct*total/100.0))\n",
    "        return '{p:.2f}%  ({v:d})'.format(p=pct,v=val)\n",
    "    return my_autopct"
   ]
  },
  {
   "cell_type": "code",
   "execution_count": 10,
   "metadata": {},
   "outputs": [
    {
     "data": {
      "text/html": [
       "<div>\n",
       "<style scoped>\n",
       "    .dataframe tbody tr th:only-of-type {\n",
       "        vertical-align: middle;\n",
       "    }\n",
       "\n",
       "    .dataframe tbody tr th {\n",
       "        vertical-align: top;\n",
       "    }\n",
       "\n",
       "    .dataframe thead th {\n",
       "        text-align: right;\n",
       "    }\n",
       "</style>\n",
       "<table border=\"1\" class=\"dataframe\">\n",
       "  <thead>\n",
       "    <tr style=\"text-align: right;\">\n",
       "      <th></th>\n",
       "      <th>EmpID</th>\n",
       "      <th>MarriedID</th>\n",
       "      <th>MaritalStatusID</th>\n",
       "      <th>GenderID</th>\n",
       "      <th>EmpStatusID</th>\n",
       "      <th>DeptID</th>\n",
       "      <th>PerfScoreID</th>\n",
       "      <th>FromDiversityJobFairID</th>\n",
       "      <th>Salary</th>\n",
       "      <th>Termd</th>\n",
       "      <th>PositionID</th>\n",
       "      <th>Zip</th>\n",
       "      <th>ManagerID</th>\n",
       "      <th>EngagementSurvey</th>\n",
       "      <th>EmpSatisfaction</th>\n",
       "      <th>SpecialProjectsCount</th>\n",
       "      <th>DaysLateLast30</th>\n",
       "      <th>Absences</th>\n",
       "    </tr>\n",
       "  </thead>\n",
       "  <tbody>\n",
       "    <tr>\n",
       "      <th>count</th>\n",
       "      <td>311.000000</td>\n",
       "      <td>311.000000</td>\n",
       "      <td>311.000000</td>\n",
       "      <td>311.000000</td>\n",
       "      <td>311.000000</td>\n",
       "      <td>311.000000</td>\n",
       "      <td>311.000000</td>\n",
       "      <td>311.000000</td>\n",
       "      <td>311.000000</td>\n",
       "      <td>311.000000</td>\n",
       "      <td>311.000000</td>\n",
       "      <td>311.000000</td>\n",
       "      <td>303.000000</td>\n",
       "      <td>311.000000</td>\n",
       "      <td>311.000000</td>\n",
       "      <td>311.000000</td>\n",
       "      <td>311.000000</td>\n",
       "      <td>311.000000</td>\n",
       "    </tr>\n",
       "    <tr>\n",
       "      <th>mean</th>\n",
       "      <td>10156.000000</td>\n",
       "      <td>0.398714</td>\n",
       "      <td>0.810289</td>\n",
       "      <td>0.434084</td>\n",
       "      <td>2.392283</td>\n",
       "      <td>4.610932</td>\n",
       "      <td>2.977492</td>\n",
       "      <td>0.093248</td>\n",
       "      <td>69020.684887</td>\n",
       "      <td>0.334405</td>\n",
       "      <td>16.845659</td>\n",
       "      <td>6555.482315</td>\n",
       "      <td>14.570957</td>\n",
       "      <td>4.110000</td>\n",
       "      <td>3.890675</td>\n",
       "      <td>1.218650</td>\n",
       "      <td>0.414791</td>\n",
       "      <td>10.237942</td>\n",
       "    </tr>\n",
       "    <tr>\n",
       "      <th>std</th>\n",
       "      <td>89.922189</td>\n",
       "      <td>0.490423</td>\n",
       "      <td>0.943239</td>\n",
       "      <td>0.496435</td>\n",
       "      <td>1.794383</td>\n",
       "      <td>1.083487</td>\n",
       "      <td>0.587072</td>\n",
       "      <td>0.291248</td>\n",
       "      <td>25156.636930</td>\n",
       "      <td>0.472542</td>\n",
       "      <td>6.223419</td>\n",
       "      <td>16908.396884</td>\n",
       "      <td>8.078306</td>\n",
       "      <td>0.789938</td>\n",
       "      <td>0.909241</td>\n",
       "      <td>2.349421</td>\n",
       "      <td>1.294519</td>\n",
       "      <td>5.852596</td>\n",
       "    </tr>\n",
       "    <tr>\n",
       "      <th>min</th>\n",
       "      <td>10001.000000</td>\n",
       "      <td>0.000000</td>\n",
       "      <td>0.000000</td>\n",
       "      <td>0.000000</td>\n",
       "      <td>1.000000</td>\n",
       "      <td>1.000000</td>\n",
       "      <td>1.000000</td>\n",
       "      <td>0.000000</td>\n",
       "      <td>45046.000000</td>\n",
       "      <td>0.000000</td>\n",
       "      <td>1.000000</td>\n",
       "      <td>1013.000000</td>\n",
       "      <td>1.000000</td>\n",
       "      <td>1.120000</td>\n",
       "      <td>1.000000</td>\n",
       "      <td>0.000000</td>\n",
       "      <td>0.000000</td>\n",
       "      <td>1.000000</td>\n",
       "    </tr>\n",
       "    <tr>\n",
       "      <th>25%</th>\n",
       "      <td>10078.500000</td>\n",
       "      <td>0.000000</td>\n",
       "      <td>0.000000</td>\n",
       "      <td>0.000000</td>\n",
       "      <td>1.000000</td>\n",
       "      <td>5.000000</td>\n",
       "      <td>3.000000</td>\n",
       "      <td>0.000000</td>\n",
       "      <td>55501.500000</td>\n",
       "      <td>0.000000</td>\n",
       "      <td>18.000000</td>\n",
       "      <td>1901.500000</td>\n",
       "      <td>10.000000</td>\n",
       "      <td>3.690000</td>\n",
       "      <td>3.000000</td>\n",
       "      <td>0.000000</td>\n",
       "      <td>0.000000</td>\n",
       "      <td>5.000000</td>\n",
       "    </tr>\n",
       "    <tr>\n",
       "      <th>50%</th>\n",
       "      <td>10156.000000</td>\n",
       "      <td>0.000000</td>\n",
       "      <td>1.000000</td>\n",
       "      <td>0.000000</td>\n",
       "      <td>1.000000</td>\n",
       "      <td>5.000000</td>\n",
       "      <td>3.000000</td>\n",
       "      <td>0.000000</td>\n",
       "      <td>62810.000000</td>\n",
       "      <td>0.000000</td>\n",
       "      <td>19.000000</td>\n",
       "      <td>2132.000000</td>\n",
       "      <td>15.000000</td>\n",
       "      <td>4.280000</td>\n",
       "      <td>4.000000</td>\n",
       "      <td>0.000000</td>\n",
       "      <td>0.000000</td>\n",
       "      <td>10.000000</td>\n",
       "    </tr>\n",
       "    <tr>\n",
       "      <th>75%</th>\n",
       "      <td>10233.500000</td>\n",
       "      <td>1.000000</td>\n",
       "      <td>1.000000</td>\n",
       "      <td>1.000000</td>\n",
       "      <td>5.000000</td>\n",
       "      <td>5.000000</td>\n",
       "      <td>3.000000</td>\n",
       "      <td>0.000000</td>\n",
       "      <td>72036.000000</td>\n",
       "      <td>1.000000</td>\n",
       "      <td>20.000000</td>\n",
       "      <td>2355.000000</td>\n",
       "      <td>19.000000</td>\n",
       "      <td>4.700000</td>\n",
       "      <td>5.000000</td>\n",
       "      <td>0.000000</td>\n",
       "      <td>0.000000</td>\n",
       "      <td>15.000000</td>\n",
       "    </tr>\n",
       "    <tr>\n",
       "      <th>max</th>\n",
       "      <td>10311.000000</td>\n",
       "      <td>1.000000</td>\n",
       "      <td>4.000000</td>\n",
       "      <td>1.000000</td>\n",
       "      <td>5.000000</td>\n",
       "      <td>6.000000</td>\n",
       "      <td>4.000000</td>\n",
       "      <td>1.000000</td>\n",
       "      <td>250000.000000</td>\n",
       "      <td>1.000000</td>\n",
       "      <td>30.000000</td>\n",
       "      <td>98052.000000</td>\n",
       "      <td>39.000000</td>\n",
       "      <td>5.000000</td>\n",
       "      <td>5.000000</td>\n",
       "      <td>8.000000</td>\n",
       "      <td>6.000000</td>\n",
       "      <td>20.000000</td>\n",
       "    </tr>\n",
       "  </tbody>\n",
       "</table>\n",
       "</div>"
      ],
      "text/plain": [
       "              EmpID   MarriedID  MaritalStatusID    GenderID  EmpStatusID  \\\n",
       "count    311.000000  311.000000       311.000000  311.000000   311.000000   \n",
       "mean   10156.000000    0.398714         0.810289    0.434084     2.392283   \n",
       "std       89.922189    0.490423         0.943239    0.496435     1.794383   \n",
       "min    10001.000000    0.000000         0.000000    0.000000     1.000000   \n",
       "25%    10078.500000    0.000000         0.000000    0.000000     1.000000   \n",
       "50%    10156.000000    0.000000         1.000000    0.000000     1.000000   \n",
       "75%    10233.500000    1.000000         1.000000    1.000000     5.000000   \n",
       "max    10311.000000    1.000000         4.000000    1.000000     5.000000   \n",
       "\n",
       "           DeptID  PerfScoreID  FromDiversityJobFairID         Salary  \\\n",
       "count  311.000000   311.000000              311.000000     311.000000   \n",
       "mean     4.610932     2.977492                0.093248   69020.684887   \n",
       "std      1.083487     0.587072                0.291248   25156.636930   \n",
       "min      1.000000     1.000000                0.000000   45046.000000   \n",
       "25%      5.000000     3.000000                0.000000   55501.500000   \n",
       "50%      5.000000     3.000000                0.000000   62810.000000   \n",
       "75%      5.000000     3.000000                0.000000   72036.000000   \n",
       "max      6.000000     4.000000                1.000000  250000.000000   \n",
       "\n",
       "            Termd  PositionID           Zip   ManagerID  EngagementSurvey  \\\n",
       "count  311.000000  311.000000    311.000000  303.000000        311.000000   \n",
       "mean     0.334405   16.845659   6555.482315   14.570957          4.110000   \n",
       "std      0.472542    6.223419  16908.396884    8.078306          0.789938   \n",
       "min      0.000000    1.000000   1013.000000    1.000000          1.120000   \n",
       "25%      0.000000   18.000000   1901.500000   10.000000          3.690000   \n",
       "50%      0.000000   19.000000   2132.000000   15.000000          4.280000   \n",
       "75%      1.000000   20.000000   2355.000000   19.000000          4.700000   \n",
       "max      1.000000   30.000000  98052.000000   39.000000          5.000000   \n",
       "\n",
       "       EmpSatisfaction  SpecialProjectsCount  DaysLateLast30    Absences  \n",
       "count       311.000000            311.000000      311.000000  311.000000  \n",
       "mean          3.890675              1.218650        0.414791   10.237942  \n",
       "std           0.909241              2.349421        1.294519    5.852596  \n",
       "min           1.000000              0.000000        0.000000    1.000000  \n",
       "25%           3.000000              0.000000        0.000000    5.000000  \n",
       "50%           4.000000              0.000000        0.000000   10.000000  \n",
       "75%           5.000000              0.000000        0.000000   15.000000  \n",
       "max           5.000000              8.000000        6.000000   20.000000  "
      ]
     },
     "execution_count": 10,
     "metadata": {},
     "output_type": "execute_result"
    }
   ],
   "source": [
    "df.describe() # estadísticos descriptivos del conjunto de datos"
   ]
  },
  {
   "cell_type": "markdown",
   "metadata": {},
   "source": [
    "## Tabla comparativa en función de la variable dependiente"
   ]
  },
  {
   "cell_type": "code",
   "execution_count": 11,
   "metadata": {},
   "outputs": [
    {
     "data": {
      "text/html": [
       "<div>\n",
       "<style scoped>\n",
       "    .dataframe tbody tr th:only-of-type {\n",
       "        vertical-align: middle;\n",
       "    }\n",
       "\n",
       "    .dataframe tbody tr th {\n",
       "        vertical-align: top;\n",
       "    }\n",
       "\n",
       "    .dataframe thead th {\n",
       "        text-align: right;\n",
       "    }\n",
       "</style>\n",
       "<table border=\"1\" class=\"dataframe\">\n",
       "  <thead>\n",
       "    <tr style=\"text-align: right;\">\n",
       "      <th></th>\n",
       "      <th>Retained</th>\n",
       "      <th>Lost</th>\n",
       "      <th>Difference</th>\n",
       "    </tr>\n",
       "  </thead>\n",
       "  <tbody>\n",
       "    <tr>\n",
       "      <th>Absences</th>\n",
       "      <td>9.83</td>\n",
       "      <td>11.05</td>\n",
       "      <td>-1.22</td>\n",
       "    </tr>\n",
       "    <tr>\n",
       "      <th>DaysLateLast30</th>\n",
       "      <td>0.29</td>\n",
       "      <td>0.66</td>\n",
       "      <td>-0.37</td>\n",
       "    </tr>\n",
       "    <tr>\n",
       "      <th>EmpSatisfaction</th>\n",
       "      <td>3.89</td>\n",
       "      <td>3.88</td>\n",
       "      <td>0.01</td>\n",
       "    </tr>\n",
       "    <tr>\n",
       "      <th>EngagementSurvey</th>\n",
       "      <td>4.12</td>\n",
       "      <td>4.09</td>\n",
       "      <td>0.03</td>\n",
       "    </tr>\n",
       "    <tr>\n",
       "      <th>PerfScoreID</th>\n",
       "      <td>3.01</td>\n",
       "      <td>2.90</td>\n",
       "      <td>0.11</td>\n",
       "    </tr>\n",
       "    <tr>\n",
       "      <th>Salary</th>\n",
       "      <td>70694.03</td>\n",
       "      <td>65690.08</td>\n",
       "      <td>5003.95</td>\n",
       "    </tr>\n",
       "    <tr>\n",
       "      <th>SpecialProjectsCount</th>\n",
       "      <td>1.46</td>\n",
       "      <td>0.73</td>\n",
       "      <td>0.73</td>\n",
       "    </tr>\n",
       "  </tbody>\n",
       "</table>\n",
       "</div>"
      ],
      "text/plain": [
       "                      Retained      Lost  Difference\n",
       "Absences                  9.83     11.05       -1.22\n",
       "DaysLateLast30            0.29      0.66       -0.37\n",
       "EmpSatisfaction           3.89      3.88        0.01\n",
       "EngagementSurvey          4.12      4.09        0.03\n",
       "PerfScoreID               3.01      2.90        0.11\n",
       "Salary                70694.03  65690.08     5003.95\n",
       "SpecialProjectsCount      1.46      0.73        0.73"
      ]
     },
     "execution_count": 11,
     "metadata": {},
     "output_type": "execute_result"
    }
   ],
   "source": [
    "N_Termd_descriptive = df.query(\"Termd==0\").mean().round(2)\n",
    "Y_Termd_descriptive = df.query(\"Termd!=0\").mean().round(2)\n",
    "\n",
    "Desc_comparison = pd.DataFrame({\"Retained\":N_Termd_descriptive,\"Lost\":Y_Termd_descriptive })\n",
    "\n",
    "Desc_comparison.drop(Desc_comparison.index[[1,3,4,6,8,9,10,11,12,14,17,18]], inplace=True)\n",
    "\n",
    "Desc_comparison[\"Difference\"] = Desc_comparison[\"Retained\"] - Desc_comparison[\"Lost\"]\n",
    "\n",
    "\n",
    "Desc_comparison"
   ]
  },
  {
   "cell_type": "markdown",
   "metadata": {},
   "source": [
    "## Empleados por sexo"
   ]
  },
  {
   "cell_type": "code",
   "execution_count": 12,
   "metadata": {},
   "outputs": [
    {
     "data": {
      "image/png": "[encoded data removed]",
      "text/plain": [
       "<Figure size 720x432 with 1 Axes>"
      ]
     },
     "metadata": {},
     "output_type": "display_data"
    }
   ],
   "source": [
    "fig, ax = plt.subplots(figsize=(10,6))\n",
    "values = [42,62] \n",
    "labels= [\"Involuntary\", \"Voluntary\"]\n",
    "\n",
    "plt.pie(values, labels=labels, shadow=True, startangle=90, autopct=make_autopct(values))\n",
    "plt.title(\"Turnover cases per type (Total = 104 cases)\")\n",
    "plt.show()"
   ]
  },
  {
   "cell_type": "code",
   "execution_count": 13,
   "metadata": {},
   "outputs": [
    {
     "data": {
      "image/png": "[encoded data removed]",
      "text/plain": [
       "<Figure size 720x432 with 1 Axes>"
      ]
     },
     "metadata": {},
     "output_type": "display_data"
    }
   ],
   "source": [
    "fig, ax = plt.subplots(figsize=(10,6))\n",
    "values = [df[\"Sex\"].value_counts()[0],df[\"Sex\"].value_counts()[1]]\n",
    "labels= [\"Female\", \"Male\"]\n",
    "plt.pie(values, labels=labels, shadow=True, startangle=90, autopct=make_autopct(values))\n",
    "plt.title(\"Employees per sex (Total=311)\")\n",
    "plt.show()"
   ]
  },
  {
   "cell_type": "markdown",
   "metadata": {},
   "source": [
    "Comparamos la relación entre el sexo del empleado y la rotación de personal"
   ]
  },
  {
   "cell_type": "code",
   "execution_count": 14,
   "metadata": {},
   "outputs": [
    {
     "data": {
      "text/html": [
       "<div>\n",
       "<style scoped>\n",
       "    .dataframe tbody tr th:only-of-type {\n",
       "        vertical-align: middle;\n",
       "    }\n",
       "\n",
       "    .dataframe tbody tr th {\n",
       "        vertical-align: top;\n",
       "    }\n",
       "\n",
       "    .dataframe thead th {\n",
       "        text-align: right;\n",
       "    }\n",
       "</style>\n",
       "<table border=\"1\" class=\"dataframe\">\n",
       "  <thead>\n",
       "    <tr style=\"text-align: right;\">\n",
       "      <th>Termd</th>\n",
       "      <th>No</th>\n",
       "      <th>Yes</th>\n",
       "      <th>Total</th>\n",
       "      <th>% employees lost</th>\n",
       "    </tr>\n",
       "    <tr>\n",
       "      <th>Sex</th>\n",
       "      <th></th>\n",
       "      <th></th>\n",
       "      <th></th>\n",
       "      <th></th>\n",
       "    </tr>\n",
       "  </thead>\n",
       "  <tbody>\n",
       "    <tr>\n",
       "      <th>F</th>\n",
       "      <td>116</td>\n",
       "      <td>60</td>\n",
       "      <td>176</td>\n",
       "      <td>34.09</td>\n",
       "    </tr>\n",
       "    <tr>\n",
       "      <th>M</th>\n",
       "      <td>91</td>\n",
       "      <td>44</td>\n",
       "      <td>135</td>\n",
       "      <td>32.59</td>\n",
       "    </tr>\n",
       "  </tbody>\n",
       "</table>\n",
       "</div>"
      ],
      "text/plain": [
       "Termd   No  Yes  Total  % employees lost\n",
       "Sex                                     \n",
       "F      116   60    176             34.09\n",
       "M       91   44    135             32.59"
      ]
     },
     "execution_count": 14,
     "metadata": {},
     "output_type": "execute_result"
    }
   ],
   "source": [
    "Sex_t = pd.crosstab(df[\"Sex\"], df[\"Termd\"])\n",
    "\n",
    "Sex_t[\"Total\"] = Sex_t[0] + Sex_t[1]\n",
    "\n",
    "Sex_t[\"% employees lost\"] = (Sex_t[1] / Sex_t[\"Total\"] * 100).round(2)\n",
    "\n",
    "Sex_t.rename(columns={0:\"No\",1:\"Yes\"}, inplace=True)\n",
    "\n",
    "Sex_t\n"
   ]
  },
  {
   "cell_type": "code",
   "execution_count": 15,
   "metadata": {},
   "outputs": [
    {
     "data": {
      "image/png": "[encoded data removed]",
      "text/plain": [
       "<Figure size 432x288 with 1 Axes>"
      ]
     },
     "metadata": {},
     "output_type": "display_data"
    }
   ],
   "source": [
    "sns.countplot(data=df, x=\"Sex\", hue=\"Termd\")\n",
    "plt.title(\"Sex comparison by termination occurence (0=No, 1=Yes)\")\n",
    "plt.show()\n"
   ]
  },
  {
   "cell_type": "markdown",
   "metadata": {},
   "source": [
    "## Empleados por estado civil"
   ]
  },
  {
   "cell_type": "code",
   "execution_count": 16,
   "metadata": {},
   "outputs": [
    {
     "data": {
      "text/html": [
       "<div>\n",
       "<style scoped>\n",
       "    .dataframe tbody tr th:only-of-type {\n",
       "        vertical-align: middle;\n",
       "    }\n",
       "\n",
       "    .dataframe tbody tr th {\n",
       "        vertical-align: top;\n",
       "    }\n",
       "\n",
       "    .dataframe thead th {\n",
       "        text-align: right;\n",
       "    }\n",
       "</style>\n",
       "<table border=\"1\" class=\"dataframe\">\n",
       "  <thead>\n",
       "    <tr style=\"text-align: right;\">\n",
       "      <th>Termd</th>\n",
       "      <th>No</th>\n",
       "      <th>Yes</th>\n",
       "      <th>Total</th>\n",
       "      <th>% employees lost</th>\n",
       "    </tr>\n",
       "    <tr>\n",
       "      <th>MaritalDesc</th>\n",
       "      <th></th>\n",
       "      <th></th>\n",
       "      <th></th>\n",
       "      <th></th>\n",
       "    </tr>\n",
       "  </thead>\n",
       "  <tbody>\n",
       "    <tr>\n",
       "      <th>Single</th>\n",
       "      <td>101</td>\n",
       "      <td>36</td>\n",
       "      <td>137</td>\n",
       "      <td>26.28</td>\n",
       "    </tr>\n",
       "    <tr>\n",
       "      <th>Married</th>\n",
       "      <td>77</td>\n",
       "      <td>47</td>\n",
       "      <td>124</td>\n",
       "      <td>37.90</td>\n",
       "    </tr>\n",
       "    <tr>\n",
       "      <th>Divorced</th>\n",
       "      <td>14</td>\n",
       "      <td>16</td>\n",
       "      <td>30</td>\n",
       "      <td>53.33</td>\n",
       "    </tr>\n",
       "    <tr>\n",
       "      <th>Separated</th>\n",
       "      <td>11</td>\n",
       "      <td>1</td>\n",
       "      <td>12</td>\n",
       "      <td>8.33</td>\n",
       "    </tr>\n",
       "    <tr>\n",
       "      <th>Widowed</th>\n",
       "      <td>4</td>\n",
       "      <td>4</td>\n",
       "      <td>8</td>\n",
       "      <td>50.00</td>\n",
       "    </tr>\n",
       "  </tbody>\n",
       "</table>\n",
       "</div>"
      ],
      "text/plain": [
       "Termd         No  Yes  Total  % employees lost\n",
       "MaritalDesc                                   \n",
       "Single       101   36    137             26.28\n",
       "Married       77   47    124             37.90\n",
       "Divorced      14   16     30             53.33\n",
       "Separated     11    1     12              8.33\n",
       "Widowed        4    4      8             50.00"
      ]
     },
     "execution_count": 16,
     "metadata": {},
     "output_type": "execute_result"
    }
   ],
   "source": [
    "MD_t = pd.crosstab(df[\"MaritalDesc\"], df[\"Termd\"])\n",
    "\n",
    "MD_t[\"Total\"] = MD_t[0] + MD_t[1]\n",
    "\n",
    "MD_t[\"% employees lost\"] = (MD_t[1] / MD_t[\"Total\"] * 100).round(2)\n",
    "\n",
    "MD_t.rename(columns={0:\"No\",1:\"Yes\"}, inplace=True)\n",
    "\n",
    "MD_t.sort_values(\"Total\", ascending=False, inplace=True)\n",
    "\n",
    "MD_t"
   ]
  },
  {
   "cell_type": "code",
   "execution_count": 17,
   "metadata": {},
   "outputs": [
    {
     "data": {
      "image/png": "[encoded data removed]",
      "text/plain": [
       "<Figure size 432x288 with 1 Axes>"
      ]
     },
     "metadata": {},
     "output_type": "display_data"
    }
   ],
   "source": [
    "sns.countplot(data=df, x=df[\"MaritalDesc\"],hue=\"Termd\", order=df[\"MaritalDesc\"].value_counts().index)\n",
    "plt.title(\"Marital Desc comparison by termination occurence (0=No, 1=Yes)\")\n",
    "plt.xlabel(\"Marital Description\")\n",
    "plt.show()"
   ]
  },
  {
   "cell_type": "markdown",
   "metadata": {},
   "source": [
    "## Empleados por departamento"
   ]
  },
  {
   "cell_type": "markdown",
   "metadata": {},
   "source": [
    "En el caso de los departamentos, es posible visualizar el gráfico para comprobar que en ningún caso existe una cantidad de abandonos (voluntarios o involuntarios) igual o mayor que la cantidad de retenciones"
   ]
  },
  {
   "cell_type": "code",
   "execution_count": 18,
   "metadata": {},
   "outputs": [
    {
     "name": "stderr",
     "output_type": "stream",
     "text": [
      "C:\\Users\\arist\\anaconda3\\lib\\site-packages\\ipykernel_launcher.py:3: UserWarning:\n",
      "\n",
      "FixedFormatter should only be used together with FixedLocator\n",
      "\n"
     ]
    },
    {
     "data": {
      "image/png": "[encoded data removed]",
      "text/plain": [
       "<Figure size 1008x504 with 1 Axes>"
      ]
     },
     "metadata": {},
     "output_type": "display_data"
    }
   ],
   "source": [
    "plt.figure(figsize=(14,7))\n",
    "g_dept = sns.countplot(data=df, y=\"Department\",order= df.Department.value_counts().index, hue=\"Termd\")\n",
    "g_dept.set_xticklabels(g_dept.get_xticklabels(),rotation=90)\n",
    "plt.show()"
   ]
  },
  {
   "cell_type": "markdown",
   "metadata": {},
   "source": [
    "## Empleados por salario"
   ]
  },
  {
   "cell_type": "code",
   "execution_count": 19,
   "metadata": {},
   "outputs": [
    {
     "data": {
      "image/png": "[encoded data removed]",
      "text/plain": [
       "<Figure size 405.725x360 with 1 Axes>"
      ]
     },
     "metadata": {},
     "output_type": "display_data"
    }
   ],
   "source": [
    "sns.displot(data=df, x=\"Salary\", hue=\"Termd\", kind=\"kde\")\n",
    "plt.show()"
   ]
  },
  {
   "cell_type": "markdown",
   "metadata": {},
   "source": [
    "## Empleados por motivo de salida"
   ]
  },
  {
   "cell_type": "code",
   "execution_count": 410,
   "metadata": {},
   "outputs": [
    {
     "name": "stdout",
     "output_type": "stream",
     "text": [
      "1.0\n"
     ]
    }
   ],
   "source": [
    "Lost_employees = df[df[\"TermReason\"]!=\"N/A-StillEmployed\"]\n",
    "\n",
    "#assertion \n",
    "\n",
    "print(Lost_employees.Termd.mean())"
   ]
  },
  {
   "cell_type": "code",
   "execution_count": 411,
   "metadata": {},
   "outputs": [
    {
     "data": {
      "application/vnd.plotly.v1+json": {
       "config": {
        "linkText": "Export to plot.ly",
        "plotlyServerURL": "https://plot.ly",
        "showLink": true
       },
       "data": [
        {
         "marker": {
          "color": "rgba(255, 153, 51, 0.6)",
          "line": {
           "color": "rgba(255, 153, 51, 1.0)",
           "width": 1
          }
         },
         "name": "TermReason",
         "orientation": "v",
         "text": "",
         "type": "bar",
         "x": [
          "Another position",
          "unhappy",
          "more money",
          "career change",
          "hours",
          "attendance",
          "return to school",
          "relocation out of area",
          "military",
          "performance",
          "retiring",
          "no-call, no-show",
          "maternity leave - did not return",
          "medical issues",
          "Fatal attraction",
          "gross misconduct",
          "Learned that he is a gangster"
         ],
         "y": [
          20,
          14,
          11,
          9,
          8,
          7,
          5,
          5,
          4,
          4,
          4,
          4,
          3,
          3,
          1,
          1,
          1
         ]
        }
       ],
       "layout": {
        "legend": {
         "bgcolor": "#F5F6F9",
         "font": {
          "color": "#4D5663"
         }
        },
        "paper_bgcolor": "#F5F6F9",
        "plot_bgcolor": "#F5F6F9",
        "template": {
         "data": {
          "bar": [
           {
            "error_x": {
             "color": "#2a3f5f"
            },
            "error_y": {
             "color": "#2a3f5f"
            },
            "marker": {
             "line": {
              "color": "#E5ECF6",
              "width": 0.5
             }
            },
            "type": "bar"
           }
          ],
          "barpolar": [
           {
            "marker": {
             "line": {
              "color": "#E5ECF6",
              "width": 0.5
             }
            },
            "type": "barpolar"
           }
          ],
          "carpet": [
           {
            "aaxis": {
             "endlinecolor": "#2a3f5f",
             "gridcolor": "white",
             "linecolor": "white",
             "minorgridcolor": "white",
             "startlinecolor": "#2a3f5f"
            },
            "baxis": {
             "endlinecolor": "#2a3f5f",
             "gridcolor": "white",
             "linecolor": "white",
             "minorgridcolor": "white",
             "startlinecolor": "#2a3f5f"
            },
            "type": "carpet"
           }
          ],
          "choropleth": [
           {
            "colorbar": {
             "outlinewidth": 0,
             "ticks": ""
            },
            "type": "choropleth"
           }
          ],
          "contour": [
           {
            "colorbar": {
             "outlinewidth": 0,
             "ticks": ""
            },
            "colorscale": [
             [
              0,
              "#0d0887"
             ],
             [
              0.1111111111111111,
              "#46039f"
             ],
             [
              0.2222222222222222,
              "#7201a8"
             ],
             [
              0.3333333333333333,
              "#9c179e"
             ],
             [
              0.4444444444444444,
              "#bd3786"
             ],
             [
              0.5555555555555556,
              "#d8576b"
             ],
             [
              0.6666666666666666,
              "#ed7953"
             ],
             [
              0.7777777777777778,
              "#fb9f3a"
             ],
             [
              0.8888888888888888,
              "#fdca26"
             ],
             [
              1,
              "#f0f921"
             ]
            ],
            "type": "contour"
           }
          ],
          "contourcarpet": [
           {
            "colorbar": {
             "outlinewidth": 0,
             "ticks": ""
            },
            "type": "contourcarpet"
           }
          ],
          "heatmap": [
           {
            "colorbar": {
             "outlinewidth": 0,
             "ticks": ""
            },
            "colorscale": [
             [
              0,
              "#0d0887"
             ],
             [
              0.1111111111111111,
              "#46039f"
             ],
             [
              0.2222222222222222,
              "#7201a8"
             ],
             [
              0.3333333333333333,
              "#9c179e"
             ],
             [
              0.4444444444444444,
              "#bd3786"
             ],
             [
              0.5555555555555556,
              "#d8576b"
             ],
             [
              0.6666666666666666,
              "#ed7953"
             ],
             [
              0.7777777777777778,
              "#fb9f3a"
             ],
             [
              0.8888888888888888,
              "#fdca26"
             ],
             [
              1,
              "#f0f921"
             ]
            ],
            "type": "heatmap"
           }
          ],
          "heatmapgl": [
           {
            "colorbar": {
             "outlinewidth": 0,
             "ticks": ""
            },
            "colorscale": [
             [
              0,
              "#0d0887"
             ],
             [
              0.1111111111111111,
              "#46039f"
             ],
             [
              0.2222222222222222,
              "#7201a8"
             ],
             [
              0.3333333333333333,
              "#9c179e"
             ],
             [
              0.4444444444444444,
              "#bd3786"
             ],
             [
              0.5555555555555556,
              "#d8576b"
             ],
             [
              0.6666666666666666,
              "#ed7953"
             ],
             [
              0.7777777777777778,
              "#fb9f3a"
             ],
             [
              0.8888888888888888,
              "#fdca26"
             ],
             [
              1,
              "#f0f921"
             ]
            ],
            "type": "heatmapgl"
           }
          ],
          "histogram": [
           {
            "marker": {
             "colorbar": {
              "outlinewidth": 0,
              "ticks": ""
             }
            },
            "type": "histogram"
           }
          ],
          "histogram2d": [
           {
            "colorbar": {
             "outlinewidth": 0,
             "ticks": ""
            },
            "colorscale": [
             [
              0,
              "#0d0887"
             ],
             [
              0.1111111111111111,
              "#46039f"
             ],
             [
              0.2222222222222222,
              "#7201a8"
             ],
             [
              0.3333333333333333,
              "#9c179e"
             ],
             [
              0.4444444444444444,
              "#bd3786"
             ],
             [
              0.5555555555555556,
              "#d8576b"
             ],
             [
              0.6666666666666666,
              "#ed7953"
             ],
             [
              0.7777777777777778,
              "#fb9f3a"
             ],
             [
              0.8888888888888888,
              "#fdca26"
             ],
             [
              1,
              "#f0f921"
             ]
            ],
            "type": "histogram2d"
           }
          ],
          "histogram2dcontour": [
           {
            "colorbar": {
             "outlinewidth": 0,
             "ticks": ""
            },
            "colorscale": [
             [
              0,
              "#0d0887"
             ],
             [
              0.1111111111111111,
              "#46039f"
             ],
             [
              0.2222222222222222,
              "#7201a8"
             ],
             [
              0.3333333333333333,
              "#9c179e"
             ],
             [
              0.4444444444444444,
              "#bd3786"
             ],
             [
              0.5555555555555556,
              "#d8576b"
             ],
             [
              0.6666666666666666,
              "#ed7953"
             ],
             [
              0.7777777777777778,
              "#fb9f3a"
             ],
             [
              0.8888888888888888,
              "#fdca26"
             ],
             [
              1,
              "#f0f921"
             ]
            ],
            "type": "histogram2dcontour"
           }
          ],
          "mesh3d": [
           {
            "colorbar": {
             "outlinewidth": 0,
             "ticks": ""
            },
            "type": "mesh3d"
           }
          ],
          "parcoords": [
           {
            "line": {
             "colorbar": {
              "outlinewidth": 0,
              "ticks": ""
             }
            },
            "type": "parcoords"
           }
          ],
          "pie": [
           {
            "automargin": true,
            "type": "pie"
           }
          ],
          "scatter": [
           {
            "marker": {
             "colorbar": {
              "outlinewidth": 0,
              "ticks": ""
             }
            },
            "type": "scatter"
           }
          ],
          "scatter3d": [
           {
            "line": {
             "colorbar": {
              "outlinewidth": 0,
              "ticks": ""
             }
            },
            "marker": {
             "colorbar": {
              "outlinewidth": 0,
              "ticks": ""
             }
            },
            "type": "scatter3d"
           }
          ],
          "scattercarpet": [
           {
            "marker": {
             "colorbar": {
              "outlinewidth": 0,
              "ticks": ""
             }
            },
            "type": "scattercarpet"
           }
          ],
          "scattergeo": [
           {
            "marker": {
             "colorbar": {
              "outlinewidth": 0,
              "ticks": ""
             }
            },
            "type": "scattergeo"
           }
          ],
          "scattergl": [
           {
            "marker": {
             "colorbar": {
              "outlinewidth": 0,
              "ticks": ""
             }
            },
            "type": "scattergl"
           }
          ],
          "scattermapbox": [
           {
            "marker": {
             "colorbar": {
              "outlinewidth": 0,
              "ticks": ""
             }
            },
            "type": "scattermapbox"
           }
          ],
          "scatterpolar": [
           {
            "marker": {
             "colorbar": {
              "outlinewidth": 0,
              "ticks": ""
             }
            },
            "type": "scatterpolar"
           }
          ],
          "scatterpolargl": [
           {
            "marker": {
             "colorbar": {
              "outlinewidth": 0,
              "ticks": ""
             }
            },
            "type": "scatterpolargl"
           }
          ],
          "scatterternary": [
           {
            "marker": {
             "colorbar": {
              "outlinewidth": 0,
              "ticks": ""
             }
            },
            "type": "scatterternary"
           }
          ],
          "surface": [
           {
            "colorbar": {
             "outlinewidth": 0,
             "ticks": ""
            },
            "colorscale": [
             [
              0,
              "#0d0887"
             ],
             [
              0.1111111111111111,
              "#46039f"
             ],
             [
              0.2222222222222222,
              "#7201a8"
             ],
             [
              0.3333333333333333,
              "#9c179e"
             ],
             [
              0.4444444444444444,
              "#bd3786"
             ],
             [
              0.5555555555555556,
              "#d8576b"
             ],
             [
              0.6666666666666666,
              "#ed7953"
             ],
             [
              0.7777777777777778,
              "#fb9f3a"
             ],
             [
              0.8888888888888888,
              "#fdca26"
             ],
             [
              1,
              "#f0f921"
             ]
            ],
            "type": "surface"
           }
          ],
          "table": [
           {
            "cells": {
             "fill": {
              "color": "#EBF0F8"
             },
             "line": {
              "color": "white"
             }
            },
            "header": {
             "fill": {
              "color": "#C8D4E3"
             },
             "line": {
              "color": "white"
             }
            },
            "type": "table"
           }
          ]
         },
         "layout": {
          "annotationdefaults": {
           "arrowcolor": "#2a3f5f",
           "arrowhead": 0,
           "arrowwidth": 1
          },
          "coloraxis": {
           "colorbar": {
            "outlinewidth": 0,
            "ticks": ""
           }
          },
          "colorscale": {
           "diverging": [
            [
             0,
             "#8e0152"
            ],
            [
             0.1,
             "#c51b7d"
            ],
            [
             0.2,
             "#de77ae"
            ],
            [
             0.3,
             "#f1b6da"
            ],
            [
             0.4,
             "#fde0ef"
            ],
            [
             0.5,
             "#f7f7f7"
            ],
            [
             0.6,
             "#e6f5d0"
            ],
            [
             0.7,
             "#b8e186"
            ],
            [
             0.8,
             "#7fbc41"
            ],
            [
             0.9,
             "#4d9221"
            ],
            [
             1,
             "#276419"
            ]
           ],
           "sequential": [
            [
             0,
             "#0d0887"
            ],
            [
             0.1111111111111111,
             "#46039f"
            ],
            [
             0.2222222222222222,
             "#7201a8"
            ],
            [
             0.3333333333333333,
             "#9c179e"
            ],
            [
             0.4444444444444444,
             "#bd3786"
            ],
            [
             0.5555555555555556,
             "#d8576b"
            ],
            [
             0.6666666666666666,
             "#ed7953"
            ],
            [
             0.7777777777777778,
             "#fb9f3a"
            ],
            [
             0.8888888888888888,
             "#fdca26"
            ],
            [
             1,
             "#f0f921"
            ]
           ],
           "sequentialminus": [
            [
             0,
             "#0d0887"
            ],
            [
             0.1111111111111111,
             "#46039f"
            ],
            [
             0.2222222222222222,
             "#7201a8"
            ],
            [
             0.3333333333333333,
             "#9c179e"
            ],
            [
             0.4444444444444444,
             "#bd3786"
            ],
            [
             0.5555555555555556,
             "#d8576b"
            ],
            [
             0.6666666666666666,
             "#ed7953"
            ],
            [
             0.7777777777777778,
             "#fb9f3a"
            ],
            [
             0.8888888888888888,
             "#fdca26"
            ],
            [
             1,
             "#f0f921"
            ]
           ]
          },
          "colorway": [
           "#636efa",
           "#EF553B",
           "#00cc96",
           "#ab63fa",
           "#FFA15A",
           "#19d3f3",
           "#FF6692",
           "#B6E880",
           "#FF97FF",
           "#FECB52"
          ],
          "font": {
           "color": "#2a3f5f"
          },
          "geo": {
           "bgcolor": "white",
           "lakecolor": "white",
           "landcolor": "#E5ECF6",
           "showlakes": true,
           "showland": true,
           "subunitcolor": "white"
          },
          "hoverlabel": {
           "align": "left"
          },
          "hovermode": "closest",
          "mapbox": {
           "style": "light"
          },
          "paper_bgcolor": "white",
          "plot_bgcolor": "#E5ECF6",
          "polar": {
           "angularaxis": {
            "gridcolor": "white",
            "linecolor": "white",
            "ticks": ""
           },
           "bgcolor": "#E5ECF6",
           "radialaxis": {
            "gridcolor": "white",
            "linecolor": "white",
            "ticks": ""
           }
          },
          "scene": {
           "xaxis": {
            "backgroundcolor": "#E5ECF6",
            "gridcolor": "white",
            "gridwidth": 2,
            "linecolor": "white",
            "showbackground": true,
            "ticks": "",
            "zerolinecolor": "white"
           },
           "yaxis": {
            "backgroundcolor": "#E5ECF6",
            "gridcolor": "white",
            "gridwidth": 2,
            "linecolor": "white",
            "showbackground": true,
            "ticks": "",
            "zerolinecolor": "white"
           },
           "zaxis": {
            "backgroundcolor": "#E5ECF6",
            "gridcolor": "white",
            "gridwidth": 2,
            "linecolor": "white",
            "showbackground": true,
            "ticks": "",
            "zerolinecolor": "white"
           }
          },
          "shapedefaults": {
           "line": {
            "color": "#2a3f5f"
           }
          },
          "ternary": {
           "aaxis": {
            "gridcolor": "white",
            "linecolor": "white",
            "ticks": ""
           },
           "baxis": {
            "gridcolor": "white",
            "linecolor": "white",
            "ticks": ""
           },
           "bgcolor": "#E5ECF6",
           "caxis": {
            "gridcolor": "white",
            "linecolor": "white",
            "ticks": ""
           }
          },
          "title": {
           "x": 0.05
          },
          "xaxis": {
           "automargin": true,
           "gridcolor": "white",
           "linecolor": "white",
           "ticks": "",
           "title": {
            "standoff": 15
           },
           "zerolinecolor": "white",
           "zerolinewidth": 2
          },
          "yaxis": {
           "automargin": true,
           "gridcolor": "white",
           "linecolor": "white",
           "ticks": "",
           "title": {
            "standoff": 15
           },
           "zerolinecolor": "white",
           "zerolinewidth": 2
          }
         }
        },
        "title": {
         "font": {
          "color": "#4D5663"
         }
        },
        "xaxis": {
         "gridcolor": "#E1E5ED",
         "showgrid": true,
         "tickfont": {
          "color": "#4D5663"
         },
         "title": {
          "font": {
           "color": "#4D5663"
          },
          "text": ""
         },
         "zerolinecolor": "#E1E5ED"
        },
        "yaxis": {
         "gridcolor": "#E1E5ED",
         "showgrid": true,
         "tickfont": {
          "color": "#4D5663"
         },
         "title": {
          "font": {
           "color": "#4D5663"
          },
          "text": ""
         },
         "zerolinecolor": "#E1E5ED"
        }
       }
      },
      "text/html": [
       "<div>                            <div id=\"95b3cf13-3427-4a73-b763-719fbce68262\" class=\"plotly-graph-div\" style=\"height:525px; width:100%;\"></div>            <script type=\"text/javascript\">                require([\"plotly\"], function(Plotly) {                    window.PLOTLYENV=window.PLOTLYENV || {};\n",
       "                    window.PLOTLYENV.BASE_URL='https://plot.ly';                                    if (document.getElementById(\"95b3cf13-3427-4a73-b763-719fbce68262\")) {                    Plotly.newPlot(                        \"95b3cf13-3427-4a73-b763-719fbce68262\",                        [{\"marker\": {\"color\": \"rgba(255, 153, 51, 0.6)\", \"line\": {\"color\": \"rgba(255, 153, 51, 1.0)\", \"width\": 1}}, \"name\": \"TermReason\", \"orientation\": \"v\", \"text\": \"\", \"type\": \"bar\", \"x\": [\"Another position\", \"unhappy\", \"more money\", \"career change\", \"hours\", \"attendance\", \"return to school\", \"relocation out of area\", \"military\", \"performance\", \"retiring\", \"no-call, no-show\", \"maternity leave - did not return\", \"medical issues\", \"Fatal attraction\", \"gross misconduct\", \"Learned that he is a gangster\"], \"y\": [20, 14, 11, 9, 8, 7, 5, 5, 4, 4, 4, 4, 3, 3, 1, 1, 1]}],                        {\"legend\": {\"bgcolor\": \"#F5F6F9\", \"font\": {\"color\": \"#4D5663\"}}, \"paper_bgcolor\": \"#F5F6F9\", \"plot_bgcolor\": \"#F5F6F9\", \"template\": {\"data\": {\"bar\": [{\"error_x\": {\"color\": \"#2a3f5f\"}, \"error_y\": {\"color\": \"#2a3f5f\"}, \"marker\": {\"line\": {\"color\": \"#E5ECF6\", \"width\": 0.5}}, \"type\": \"bar\"}], \"barpolar\": [{\"marker\": {\"line\": {\"color\": \"#E5ECF6\", \"width\": 0.5}}, \"type\": \"barpolar\"}], \"carpet\": [{\"aaxis\": {\"endlinecolor\": \"#2a3f5f\", \"gridcolor\": \"white\", \"linecolor\": \"white\", \"minorgridcolor\": \"white\", \"startlinecolor\": \"#2a3f5f\"}, \"baxis\": {\"endlinecolor\": \"#2a3f5f\", \"gridcolor\": \"white\", \"linecolor\": \"white\", \"minorgridcolor\": \"white\", \"startlinecolor\": \"#2a3f5f\"}, \"type\": \"carpet\"}], \"choropleth\": [{\"colorbar\": {\"outlinewidth\": 0, \"ticks\": \"\"}, \"type\": \"choropleth\"}], \"contour\": [{\"colorbar\": {\"outlinewidth\": 0, \"ticks\": \"\"}, \"colorscale\": [[0.0, \"#0d0887\"], [0.1111111111111111, \"#46039f\"], [0.2222222222222222, \"#7201a8\"], [0.3333333333333333, \"#9c179e\"], [0.4444444444444444, \"#bd3786\"], [0.5555555555555556, \"#d8576b\"], [0.6666666666666666, \"#ed7953\"], [0.7777777777777778, \"#fb9f3a\"], [0.8888888888888888, \"#fdca26\"], [1.0, \"#f0f921\"]], \"type\": \"contour\"}], \"contourcarpet\": [{\"colorbar\": {\"outlinewidth\": 0, \"ticks\": \"\"}, \"type\": \"contourcarpet\"}], \"heatmap\": [{\"colorbar\": {\"outlinewidth\": 0, \"ticks\": \"\"}, \"colorscale\": [[0.0, \"#0d0887\"], [0.1111111111111111, \"#46039f\"], [0.2222222222222222, \"#7201a8\"], [0.3333333333333333, \"#9c179e\"], [0.4444444444444444, \"#bd3786\"], [0.5555555555555556, \"#d8576b\"], [0.6666666666666666, \"#ed7953\"], [0.7777777777777778, \"#fb9f3a\"], [0.8888888888888888, \"#fdca26\"], [1.0, \"#f0f921\"]], \"type\": \"heatmap\"}], \"heatmapgl\": [{\"colorbar\": {\"outlinewidth\": 0, \"ticks\": \"\"}, \"colorscale\": [[0.0, \"#0d0887\"], [0.1111111111111111, \"#46039f\"], [0.2222222222222222, \"#7201a8\"], [0.3333333333333333, \"#9c179e\"], [0.4444444444444444, \"#bd3786\"], [0.5555555555555556, \"#d8576b\"], [0.6666666666666666, \"#ed7953\"], [0.7777777777777778, \"#fb9f3a\"], [0.8888888888888888, \"#fdca26\"], [1.0, \"#f0f921\"]], \"type\": \"heatmapgl\"}], \"histogram\": [{\"marker\": {\"colorbar\": {\"outlinewidth\": 0, \"ticks\": \"\"}}, \"type\": \"histogram\"}], \"histogram2d\": [{\"colorbar\": {\"outlinewidth\": 0, \"ticks\": \"\"}, \"colorscale\": [[0.0, \"#0d0887\"], [0.1111111111111111, \"#46039f\"], [0.2222222222222222, \"#7201a8\"], [0.3333333333333333, \"#9c179e\"], [0.4444444444444444, \"#bd3786\"], [0.5555555555555556, \"#d8576b\"], [0.6666666666666666, \"#ed7953\"], [0.7777777777777778, \"#fb9f3a\"], [0.8888888888888888, \"#fdca26\"], [1.0, \"#f0f921\"]], \"type\": \"histogram2d\"}], \"histogram2dcontour\": [{\"colorbar\": {\"outlinewidth\": 0, \"ticks\": \"\"}, \"colorscale\": [[0.0, \"#0d0887\"], [0.1111111111111111, \"#46039f\"], [0.2222222222222222, \"#7201a8\"], [0.3333333333333333, \"#9c179e\"], [0.4444444444444444, \"#bd3786\"], [0.5555555555555556, \"#d8576b\"], [0.6666666666666666, \"#ed7953\"], [0.7777777777777778, \"#fb9f3a\"], [0.8888888888888888, \"#fdca26\"], [1.0, \"#f0f921\"]], \"type\": \"histogram2dcontour\"}], \"mesh3d\": [{\"colorbar\": {\"outlinewidth\": 0, \"ticks\": \"\"}, \"type\": \"mesh3d\"}], \"parcoords\": [{\"line\": {\"colorbar\": {\"outlinewidth\": 0, \"ticks\": \"\"}}, \"type\": \"parcoords\"}], \"pie\": [{\"automargin\": true, \"type\": \"pie\"}], \"scatter\": [{\"marker\": {\"colorbar\": {\"outlinewidth\": 0, \"ticks\": \"\"}}, \"type\": \"scatter\"}], \"scatter3d\": [{\"line\": {\"colorbar\": {\"outlinewidth\": 0, \"ticks\": \"\"}}, \"marker\": {\"colorbar\": {\"outlinewidth\": 0, \"ticks\": \"\"}}, \"type\": \"scatter3d\"}], \"scattercarpet\": [{\"marker\": {\"colorbar\": {\"outlinewidth\": 0, \"ticks\": \"\"}}, \"type\": \"scattercarpet\"}], \"scattergeo\": [{\"marker\": {\"colorbar\": {\"outlinewidth\": 0, \"ticks\": \"\"}}, \"type\": \"scattergeo\"}], \"scattergl\": [{\"marker\": {\"colorbar\": {\"outlinewidth\": 0, \"ticks\": \"\"}}, \"type\": \"scattergl\"}], \"scattermapbox\": [{\"marker\": {\"colorbar\": {\"outlinewidth\": 0, \"ticks\": \"\"}}, \"type\": \"scattermapbox\"}], \"scatterpolar\": [{\"marker\": {\"colorbar\": {\"outlinewidth\": 0, \"ticks\": \"\"}}, \"type\": \"scatterpolar\"}], \"scatterpolargl\": [{\"marker\": {\"colorbar\": {\"outlinewidth\": 0, \"ticks\": \"\"}}, \"type\": \"scatterpolargl\"}], \"scatterternary\": [{\"marker\": {\"colorbar\": {\"outlinewidth\": 0, \"ticks\": \"\"}}, \"type\": \"scatterternary\"}], \"surface\": [{\"colorbar\": {\"outlinewidth\": 0, \"ticks\": \"\"}, \"colorscale\": [[0.0, \"#0d0887\"], [0.1111111111111111, \"#46039f\"], [0.2222222222222222, \"#7201a8\"], [0.3333333333333333, \"#9c179e\"], [0.4444444444444444, \"#bd3786\"], [0.5555555555555556, \"#d8576b\"], [0.6666666666666666, \"#ed7953\"], [0.7777777777777778, \"#fb9f3a\"], [0.8888888888888888, \"#fdca26\"], [1.0, \"#f0f921\"]], \"type\": \"surface\"}], \"table\": [{\"cells\": {\"fill\": {\"color\": \"#EBF0F8\"}, \"line\": {\"color\": \"white\"}}, \"header\": {\"fill\": {\"color\": \"#C8D4E3\"}, \"line\": {\"color\": \"white\"}}, \"type\": \"table\"}]}, \"layout\": {\"annotationdefaults\": {\"arrowcolor\": \"#2a3f5f\", \"arrowhead\": 0, \"arrowwidth\": 1}, \"coloraxis\": {\"colorbar\": {\"outlinewidth\": 0, \"ticks\": \"\"}}, \"colorscale\": {\"diverging\": [[0, \"#8e0152\"], [0.1, \"#c51b7d\"], [0.2, \"#de77ae\"], [0.3, \"#f1b6da\"], [0.4, \"#fde0ef\"], [0.5, \"#f7f7f7\"], [0.6, \"#e6f5d0\"], [0.7, \"#b8e186\"], [0.8, \"#7fbc41\"], [0.9, \"#4d9221\"], [1, \"#276419\"]], \"sequential\": [[0.0, \"#0d0887\"], [0.1111111111111111, \"#46039f\"], [0.2222222222222222, \"#7201a8\"], [0.3333333333333333, \"#9c179e\"], [0.4444444444444444, \"#bd3786\"], [0.5555555555555556, \"#d8576b\"], [0.6666666666666666, \"#ed7953\"], [0.7777777777777778, \"#fb9f3a\"], [0.8888888888888888, \"#fdca26\"], [1.0, \"#f0f921\"]], \"sequentialminus\": [[0.0, \"#0d0887\"], [0.1111111111111111, \"#46039f\"], [0.2222222222222222, \"#7201a8\"], [0.3333333333333333, \"#9c179e\"], [0.4444444444444444, \"#bd3786\"], [0.5555555555555556, \"#d8576b\"], [0.6666666666666666, \"#ed7953\"], [0.7777777777777778, \"#fb9f3a\"], [0.8888888888888888, \"#fdca26\"], [1.0, \"#f0f921\"]]}, \"colorway\": [\"#636efa\", \"#EF553B\", \"#00cc96\", \"#ab63fa\", \"#FFA15A\", \"#19d3f3\", \"#FF6692\", \"#B6E880\", \"#FF97FF\", \"#FECB52\"], \"font\": {\"color\": \"#2a3f5f\"}, \"geo\": {\"bgcolor\": \"white\", \"lakecolor\": \"white\", \"landcolor\": \"#E5ECF6\", \"showlakes\": true, \"showland\": true, \"subunitcolor\": \"white\"}, \"hoverlabel\": {\"align\": \"left\"}, \"hovermode\": \"closest\", \"mapbox\": {\"style\": \"light\"}, \"paper_bgcolor\": \"white\", \"plot_bgcolor\": \"#E5ECF6\", \"polar\": {\"angularaxis\": {\"gridcolor\": \"white\", \"linecolor\": \"white\", \"ticks\": \"\"}, \"bgcolor\": \"#E5ECF6\", \"radialaxis\": {\"gridcolor\": \"white\", \"linecolor\": \"white\", \"ticks\": \"\"}}, \"scene\": {\"xaxis\": {\"backgroundcolor\": \"#E5ECF6\", \"gridcolor\": \"white\", \"gridwidth\": 2, \"linecolor\": \"white\", \"showbackground\": true, \"ticks\": \"\", \"zerolinecolor\": \"white\"}, \"yaxis\": {\"backgroundcolor\": \"#E5ECF6\", \"gridcolor\": \"white\", \"gridwidth\": 2, \"linecolor\": \"white\", \"showbackground\": true, \"ticks\": \"\", \"zerolinecolor\": \"white\"}, \"zaxis\": {\"backgroundcolor\": \"#E5ECF6\", \"gridcolor\": \"white\", \"gridwidth\": 2, \"linecolor\": \"white\", \"showbackground\": true, \"ticks\": \"\", \"zerolinecolor\": \"white\"}}, \"shapedefaults\": {\"line\": {\"color\": \"#2a3f5f\"}}, \"ternary\": {\"aaxis\": {\"gridcolor\": \"white\", \"linecolor\": \"white\", \"ticks\": \"\"}, \"baxis\": {\"gridcolor\": \"white\", \"linecolor\": \"white\", \"ticks\": \"\"}, \"bgcolor\": \"#E5ECF6\", \"caxis\": {\"gridcolor\": \"white\", \"linecolor\": \"white\", \"ticks\": \"\"}}, \"title\": {\"x\": 0.05}, \"xaxis\": {\"automargin\": true, \"gridcolor\": \"white\", \"linecolor\": \"white\", \"ticks\": \"\", \"title\": {\"standoff\": 15}, \"zerolinecolor\": \"white\", \"zerolinewidth\": 2}, \"yaxis\": {\"automargin\": true, \"gridcolor\": \"white\", \"linecolor\": \"white\", \"ticks\": \"\", \"title\": {\"standoff\": 15}, \"zerolinecolor\": \"white\", \"zerolinewidth\": 2}}}, \"title\": {\"font\": {\"color\": \"#4D5663\"}}, \"xaxis\": {\"gridcolor\": \"#E1E5ED\", \"showgrid\": true, \"tickfont\": {\"color\": \"#4D5663\"}, \"title\": {\"font\": {\"color\": \"#4D5663\"}, \"text\": \"\"}, \"zerolinecolor\": \"#E1E5ED\"}, \"yaxis\": {\"gridcolor\": \"#E1E5ED\", \"showgrid\": true, \"tickfont\": {\"color\": \"#4D5663\"}, \"title\": {\"font\": {\"color\": \"#4D5663\"}, \"text\": \"\"}, \"zerolinecolor\": \"#E1E5ED\"}},                        {\"showLink\": true, \"linkText\": \"Export to plot.ly\", \"plotlyServerURL\": \"https://plot.ly\", \"responsive\": true}                    ).then(function(){\n",
       "                            \n",
       "var gd = document.getElementById('95b3cf13-3427-4a73-b763-719fbce68262');\n",
       "var x = new MutationObserver(function (mutations, observer) {{\n",
       "        var display = window.getComputedStyle(gd).display;\n",
       "        if (!display || display === 'none') {{\n",
       "            console.log([gd, 'removed!']);\n",
       "            Plotly.purge(gd);\n",
       "            observer.disconnect();\n",
       "        }}\n",
       "}});\n",
       "\n",
       "// Listen for the removal of the full notebook cells\n",
       "var notebookContainer = gd.closest('#notebook-container');\n",
       "if (notebookContainer) {{\n",
       "    x.observe(notebookContainer, {childList: true});\n",
       "}}\n",
       "\n",
       "// Listen for the clearing of the current output cell\n",
       "var outputEl = gd.closest('.output');\n",
       "if (outputEl) {{\n",
       "    x.observe(outputEl, {childList: true});\n",
       "}}\n",
       "\n",
       "                        })                };                });            </script>        </div>"
      ]
     },
     "metadata": {},
     "output_type": "display_data"
    }
   ],
   "source": [
    "Lost_employees_per_reason =Lost_employees[\"TermReason\"].value_counts()\n",
    "\n",
    "Lost_employees_per_reason.iplot(kind=\"bar\")"
   ]
  },
  {
   "cell_type": "markdown",
   "metadata": {},
   "source": [
    "## Salidas o terminaciones voluntarias vs. involuntarias"
   ]
  },
  {
   "cell_type": "code",
   "execution_count": 412,
   "metadata": {},
   "outputs": [
    {
     "data": {
      "text/plain": [
       "Another position                    20\n",
       "unhappy                             14\n",
       "more money                          11\n",
       "career change                        9\n",
       "hours                                8\n",
       "attendance                           7\n",
       "return to school                     5\n",
       "relocation out of area               5\n",
       "military                             4\n",
       "performance                          4\n",
       "retiring                             4\n",
       "no-call, no-show                     4\n",
       "maternity leave - did not return     3\n",
       "medical issues                       3\n",
       "Fatal attraction                     1\n",
       "gross misconduct                     1\n",
       "Learned that he is a gangster        1\n",
       "Name: TermReason, dtype: int64"
      ]
     },
     "execution_count": 412,
     "metadata": {},
     "output_type": "execute_result"
    }
   ],
   "source": [
    "Lost_employees_per_reason"
   ]
  },
  {
   "cell_type": "code",
   "execution_count": 413,
   "metadata": {},
   "outputs": [
    {
     "name": "stdout",
     "output_type": "stream",
     "text": [
      "['involuntary', 'voluntary', 'voluntary', 'voluntary', 'voluntary', 'involuntary', 'voluntary', 'voluntary', 'voluntary', 'involuntary', 'involuntary', 'involuntary', 'voluntary', 'involuntary', 'voluntary', 'voluntary', 'voluntary']\n"
     ]
    }
   ],
   "source": [
    "inv_reasons = [\"Another position\", \"attendance\", \"performance\", \"retiring\", \n",
    "                        \"no-call, no-show\", \"medical issues\"]\n",
    "\n",
    "reasons = []\n",
    "\n",
    "for reason in Lost_employees_per_reason.index:\n",
    "    if reason in inv_reasons:\n",
    "        reasons.append(\"involuntary\")\n",
    "    else:\n",
    "        reasons.append(\"voluntary\")\n",
    "    \n",
    "print(reasons)"
   ]
  },
  {
   "cell_type": "code",
   "execution_count": 414,
   "metadata": {},
   "outputs": [
    {
     "data": {
      "text/html": [
       "<div>\n",
       "<style scoped>\n",
       "    .dataframe tbody tr th:only-of-type {\n",
       "        vertical-align: middle;\n",
       "    }\n",
       "\n",
       "    .dataframe tbody tr th {\n",
       "        vertical-align: top;\n",
       "    }\n",
       "\n",
       "    .dataframe thead th {\n",
       "        text-align: right;\n",
       "    }\n",
       "</style>\n",
       "<table border=\"1\" class=\"dataframe\">\n",
       "  <thead>\n",
       "    <tr style=\"text-align: right;\">\n",
       "      <th></th>\n",
       "      <th>reason</th>\n",
       "      <th>type</th>\n",
       "      <th>n_cases</th>\n",
       "    </tr>\n",
       "  </thead>\n",
       "  <tbody>\n",
       "    <tr>\n",
       "      <th>Another position</th>\n",
       "      <td>Another position</td>\n",
       "      <td>involuntary</td>\n",
       "      <td>20</td>\n",
       "    </tr>\n",
       "    <tr>\n",
       "      <th>unhappy</th>\n",
       "      <td>unhappy</td>\n",
       "      <td>voluntary</td>\n",
       "      <td>14</td>\n",
       "    </tr>\n",
       "    <tr>\n",
       "      <th>more money</th>\n",
       "      <td>more money</td>\n",
       "      <td>voluntary</td>\n",
       "      <td>11</td>\n",
       "    </tr>\n",
       "    <tr>\n",
       "      <th>career change</th>\n",
       "      <td>career change</td>\n",
       "      <td>voluntary</td>\n",
       "      <td>9</td>\n",
       "    </tr>\n",
       "    <tr>\n",
       "      <th>hours</th>\n",
       "      <td>hours</td>\n",
       "      <td>voluntary</td>\n",
       "      <td>8</td>\n",
       "    </tr>\n",
       "    <tr>\n",
       "      <th>attendance</th>\n",
       "      <td>attendance</td>\n",
       "      <td>involuntary</td>\n",
       "      <td>7</td>\n",
       "    </tr>\n",
       "    <tr>\n",
       "      <th>return to school</th>\n",
       "      <td>return to school</td>\n",
       "      <td>voluntary</td>\n",
       "      <td>5</td>\n",
       "    </tr>\n",
       "    <tr>\n",
       "      <th>relocation out of area</th>\n",
       "      <td>relocation out of area</td>\n",
       "      <td>voluntary</td>\n",
       "      <td>5</td>\n",
       "    </tr>\n",
       "    <tr>\n",
       "      <th>military</th>\n",
       "      <td>military</td>\n",
       "      <td>voluntary</td>\n",
       "      <td>4</td>\n",
       "    </tr>\n",
       "    <tr>\n",
       "      <th>performance</th>\n",
       "      <td>performance</td>\n",
       "      <td>involuntary</td>\n",
       "      <td>4</td>\n",
       "    </tr>\n",
       "    <tr>\n",
       "      <th>retiring</th>\n",
       "      <td>retiring</td>\n",
       "      <td>involuntary</td>\n",
       "      <td>4</td>\n",
       "    </tr>\n",
       "    <tr>\n",
       "      <th>no-call, no-show</th>\n",
       "      <td>no-call, no-show</td>\n",
       "      <td>involuntary</td>\n",
       "      <td>4</td>\n",
       "    </tr>\n",
       "    <tr>\n",
       "      <th>maternity leave - did not return</th>\n",
       "      <td>maternity leave - did not return</td>\n",
       "      <td>voluntary</td>\n",
       "      <td>3</td>\n",
       "    </tr>\n",
       "    <tr>\n",
       "      <th>medical issues</th>\n",
       "      <td>medical issues</td>\n",
       "      <td>involuntary</td>\n",
       "      <td>3</td>\n",
       "    </tr>\n",
       "    <tr>\n",
       "      <th>Fatal attraction</th>\n",
       "      <td>Fatal attraction</td>\n",
       "      <td>voluntary</td>\n",
       "      <td>1</td>\n",
       "    </tr>\n",
       "    <tr>\n",
       "      <th>gross misconduct</th>\n",
       "      <td>gross misconduct</td>\n",
       "      <td>voluntary</td>\n",
       "      <td>1</td>\n",
       "    </tr>\n",
       "    <tr>\n",
       "      <th>Learned that he is a gangster</th>\n",
       "      <td>Learned that he is a gangster</td>\n",
       "      <td>voluntary</td>\n",
       "      <td>1</td>\n",
       "    </tr>\n",
       "  </tbody>\n",
       "</table>\n",
       "</div>"
      ],
      "text/plain": [
       "                                                            reason  \\\n",
       "Another position                                  Another position   \n",
       "unhappy                                                    unhappy   \n",
       "more money                                              more money   \n",
       "career change                                        career change   \n",
       "hours                                                        hours   \n",
       "attendance                                              attendance   \n",
       "return to school                                  return to school   \n",
       "relocation out of area                      relocation out of area   \n",
       "military                                                  military   \n",
       "performance                                            performance   \n",
       "retiring                                                  retiring   \n",
       "no-call, no-show                                  no-call, no-show   \n",
       "maternity leave - did not return  maternity leave - did not return   \n",
       "medical issues                                      medical issues   \n",
       "Fatal attraction                                  Fatal attraction   \n",
       "gross misconduct                                  gross misconduct   \n",
       "Learned that he is a gangster        Learned that he is a gangster   \n",
       "\n",
       "                                         type  n_cases  \n",
       "Another position                  involuntary       20  \n",
       "unhappy                             voluntary       14  \n",
       "more money                          voluntary       11  \n",
       "career change                       voluntary        9  \n",
       "hours                               voluntary        8  \n",
       "attendance                        involuntary        7  \n",
       "return to school                    voluntary        5  \n",
       "relocation out of area              voluntary        5  \n",
       "military                            voluntary        4  \n",
       "performance                       involuntary        4  \n",
       "retiring                          involuntary        4  \n",
       "no-call, no-show                  involuntary        4  \n",
       "maternity leave - did not return    voluntary        3  \n",
       "medical issues                    involuntary        3  \n",
       "Fatal attraction                    voluntary        1  \n",
       "gross misconduct                    voluntary        1  \n",
       "Learned that he is a gangster       voluntary        1  "
      ]
     },
     "execution_count": 414,
     "metadata": {},
     "output_type": "execute_result"
    }
   ],
   "source": [
    "Reason_desc = Lost_employees_per_reason.index\n",
    "\n",
    "reasons_classified = pd.DataFrame({\"reason\":Reason_desc, \"type\":reasons, \"n_cases\":Lost_employees_per_reason})\n",
    "\n",
    "reasons_classified"
   ]
  },
  {
   "cell_type": "code",
   "execution_count": 25,
   "metadata": {},
   "outputs": [
    {
     "data": {
      "text/plain": [
       "type\n",
       "involuntary    42\n",
       "voluntary      62\n",
       "Name: n_cases, dtype: int64"
      ]
     },
     "execution_count": 25,
     "metadata": {},
     "output_type": "execute_result"
    }
   ],
   "source": [
    "reasons_by_type = reasons_classified.groupby(\"type\")[\"n_cases\"].sum()\n",
    "reasons_by_type"
   ]
  },
  {
   "cell_type": "code",
   "execution_count": 26,
   "metadata": {},
   "outputs": [
    {
     "data": {
      "image/png": "[encoded data removed]",
      "text/plain": [
       "<Figure size 720x432 with 1 Axes>"
      ]
     },
     "metadata": {},
     "output_type": "display_data"
    }
   ],
   "source": [
    "fig, ax = plt.subplots(figsize=(10,6))\n",
    "values = [reasons_by_type[0],reasons_by_type[1]] \n",
    "labels= [\"Involuntary\", \"Voluntary\"]\n",
    "\n",
    "plt.pie(values, labels=labels, shadow=True, startangle=90, autopct=make_autopct(values))\n",
    "plt.title(\"Turnover cases per type (Total = 104)\")\n",
    "plt.show()"
   ]
  },
  {
   "cell_type": "markdown",
   "metadata": {},
   "source": [
    "# Feature engineering : preprocesamiento de los datos"
   ]
  },
  {
   "cell_type": "markdown",
   "metadata": {},
   "source": [
    "**Objetivos**:\n",
    "\n",
    "- Descartar las variables no relevantes para alimentar al algoritmo\n",
    "- Transformar los tipos de variables en tipos admitidos por el algoritmo\n",
    "- Crear nuevas variables (en caso necesario)"
   ]
  },
  {
   "cell_type": "markdown",
   "metadata": {},
   "source": [
    "## Nuevas features cuantitativas"
   ]
  },
  {
   "cell_type": "markdown",
   "metadata": {},
   "source": [
    "### Copia del df inicial"
   ]
  },
  {
   "cell_type": "code",
   "execution_count": 27,
   "metadata": {},
   "outputs": [],
   "source": [
    "df_cuanti = df.copy()"
   ]
  },
  {
   "cell_type": "markdown",
   "metadata": {},
   "source": [
    "### Variables de fecha a formato datetime"
   ]
  },
  {
   "cell_type": "code",
   "execution_count": 152,
   "metadata": {},
   "outputs": [],
   "source": [
    "# Primero, creamos una fecha final para DofTermination, para poder calcular los años en la empresa\n",
    "\n",
    "df_cuanti[\"DateofTermination\"] = df_cuanti[\"DateofTermination\"].fillna(\"31/12/2020\")\n",
    "\n",
    "# pasamos dofTermination, dofHire y DOB a datetime\n",
    "\n",
    "df_cuanti[[\"DateofTermination\", \"DateofHire\",\"DOB\",\"LastPerformanceReview_Date\"]] = df_cuanti[[\"DateofTermination\", \"DateofHire\",\"DOB\",\"LastPerformanceReview_Date\"]].apply(pd.to_datetime)"
   ]
  },
  {
   "cell_type": "markdown",
   "metadata": {},
   "source": [
    "### Variable Age"
   ]
  },
  {
   "cell_type": "code",
   "execution_count": 29,
   "metadata": {},
   "outputs": [
    {
     "name": "stdout",
     "output_type": "stream",
     "text": [
      "0      37\n",
      "1      45\n",
      "2      32\n",
      "3      32\n",
      "4      31\n",
      "       ..\n",
      "306    35\n",
      "307    38\n",
      "308    41\n",
      "309    41\n",
      "310    42\n",
      "Name: Age, Length: 311, dtype: int64\n"
     ]
    }
   ],
   "source": [
    "# Creamos la fecha que sobre la que restaremos la fecha de nacimiento\n",
    "\n",
    "december_31 = \"2020-12-31\"\n",
    "\n",
    "# la pasamos a datetime\n",
    "\n",
    "december_31_date = datetime.datetime.strptime(december_31, '%Y-%m-%d')\n",
    "\n",
    "\n",
    "# loop con cada resta (en valor absoluto) entre 31-12-2020 y fecha de nacimiento, y append a la lista age\n",
    "\n",
    "age = []\n",
    "\n",
    "from dateutil.relativedelta import relativedelta\n",
    "\n",
    "for i in df_cuanti[\"DOB\"]:\n",
    "    xx = abs(relativedelta (december_31_date, i))\n",
    "    age.append(xx.years)\n",
    "    \n",
    "\n",
    "\n",
    "df_cuanti[\"Age\"] = age\n",
    "\n",
    "print(df_cuanti[\"Age\"])"
   ]
  },
  {
   "cell_type": "markdown",
   "metadata": {},
   "source": [
    "### Variable Months in Company"
   ]
  },
  {
   "cell_type": "code",
   "execution_count": 30,
   "metadata": {},
   "outputs": [
    {
     "name": "stdout",
     "output_type": "stream",
     "text": [
      "0    108.0\n",
      "1     12.0\n",
      "2     12.0\n",
      "3    144.0\n",
      "4     60.0\n",
      "Name: Months_in_company, dtype: float64\n"
     ]
    }
   ],
   "source": [
    "\n",
    "df_cuanti[\"Months_in_company\"] = (df_cuanti[\"DateofTermination\"] - df_cuanti[\"DateofHire\"]).astype('timedelta64[Y]')*12\n",
    "\n",
    "\n",
    "print(df_cuanti[\"Months_in_company\"].head())\n",
    "\n",
    "\n"
   ]
  },
  {
   "cell_type": "markdown",
   "metadata": {},
   "source": [
    "### Variable months_since_P_review"
   ]
  },
  {
   "cell_type": "code",
   "execution_count": 31,
   "metadata": {},
   "outputs": [
    {
     "name": "stdout",
     "output_type": "stream",
     "text": [
      "0      12\n",
      "1      48\n",
      "2      96\n",
      "3      12\n",
      "4      48\n",
      "       ..\n",
      "306    12\n",
      "307    60\n",
      "308    12\n",
      "309    12\n",
      "310    12\n",
      "Name: Months_since_P_review, Length: 311, dtype: int64\n"
     ]
    }
   ],
   "source": [
    "years_Preview = []\n",
    "\n",
    "for i in df_cuanti[\"LastPerformanceReview_Date\"]:\n",
    "    xxxx = abs(relativedelta (december_31_date, i))\n",
    "    years_Preview.append(xxxx.years)\n",
    "    \n",
    "\n",
    "\n",
    "df_cuanti[\"Months_since_P_review\"] = [i * 12 for i in years_Preview]\n",
    "\n",
    "print(df_cuanti[\"Months_since_P_review\"])"
   ]
  },
  {
   "cell_type": "markdown",
   "metadata": {},
   "source": [
    "### Dataframe cuantitativo final"
   ]
  },
  {
   "cell_type": "code",
   "execution_count": 387,
   "metadata": {},
   "outputs": [],
   "source": [
    "df_cuanti.to_excel(\"df_cuanti.xlsx\")"
   ]
  },
  {
   "cell_type": "markdown",
   "metadata": {},
   "source": [
    "## Matriz de correlaciones"
   ]
  },
  {
   "cell_type": "code",
   "execution_count": 388,
   "metadata": {},
   "outputs": [
    {
     "data": {
      "text/html": [
       "<div>\n",
       "<style scoped>\n",
       "    .dataframe tbody tr th:only-of-type {\n",
       "        vertical-align: middle;\n",
       "    }\n",
       "\n",
       "    .dataframe tbody tr th {\n",
       "        vertical-align: top;\n",
       "    }\n",
       "\n",
       "    .dataframe thead th {\n",
       "        text-align: right;\n",
       "    }\n",
       "</style>\n",
       "<table border=\"1\" class=\"dataframe\">\n",
       "  <thead>\n",
       "    <tr style=\"text-align: right;\">\n",
       "      <th></th>\n",
       "      <th>PerfScoreID</th>\n",
       "      <th>Salary</th>\n",
       "      <th>Age</th>\n",
       "      <th>Months_in_company</th>\n",
       "      <th>Months_since_P_review</th>\n",
       "      <th>EngagementSurvey</th>\n",
       "      <th>EmpSatisfaction</th>\n",
       "      <th>SpecialProjectsCount</th>\n",
       "      <th>DaysLateLast30</th>\n",
       "      <th>Absences</th>\n",
       "    </tr>\n",
       "  </thead>\n",
       "  <tbody>\n",
       "    <tr>\n",
       "      <th>0</th>\n",
       "      <td>4</td>\n",
       "      <td>62506</td>\n",
       "      <td>37</td>\n",
       "      <td>108.0</td>\n",
       "      <td>12</td>\n",
       "      <td>4.60</td>\n",
       "      <td>5</td>\n",
       "      <td>0</td>\n",
       "      <td>0</td>\n",
       "      <td>1</td>\n",
       "    </tr>\n",
       "    <tr>\n",
       "      <th>1</th>\n",
       "      <td>3</td>\n",
       "      <td>104437</td>\n",
       "      <td>45</td>\n",
       "      <td>12.0</td>\n",
       "      <td>48</td>\n",
       "      <td>4.96</td>\n",
       "      <td>3</td>\n",
       "      <td>6</td>\n",
       "      <td>0</td>\n",
       "      <td>17</td>\n",
       "    </tr>\n",
       "    <tr>\n",
       "      <th>2</th>\n",
       "      <td>3</td>\n",
       "      <td>64955</td>\n",
       "      <td>32</td>\n",
       "      <td>12.0</td>\n",
       "      <td>96</td>\n",
       "      <td>3.02</td>\n",
       "      <td>3</td>\n",
       "      <td>0</td>\n",
       "      <td>0</td>\n",
       "      <td>3</td>\n",
       "    </tr>\n",
       "    <tr>\n",
       "      <th>3</th>\n",
       "      <td>3</td>\n",
       "      <td>64991</td>\n",
       "      <td>32</td>\n",
       "      <td>144.0</td>\n",
       "      <td>12</td>\n",
       "      <td>4.84</td>\n",
       "      <td>5</td>\n",
       "      <td>0</td>\n",
       "      <td>0</td>\n",
       "      <td>15</td>\n",
       "    </tr>\n",
       "    <tr>\n",
       "      <th>4</th>\n",
       "      <td>3</td>\n",
       "      <td>50825</td>\n",
       "      <td>31</td>\n",
       "      <td>60.0</td>\n",
       "      <td>48</td>\n",
       "      <td>5.00</td>\n",
       "      <td>4</td>\n",
       "      <td>0</td>\n",
       "      <td>0</td>\n",
       "      <td>2</td>\n",
       "    </tr>\n",
       "  </tbody>\n",
       "</table>\n",
       "</div>"
      ],
      "text/plain": [
       "   PerfScoreID  Salary  Age  Months_in_company  Months_since_P_review  \\\n",
       "0            4   62506   37              108.0                     12   \n",
       "1            3  104437   45               12.0                     48   \n",
       "2            3   64955   32               12.0                     96   \n",
       "3            3   64991   32              144.0                     12   \n",
       "4            3   50825   31               60.0                     48   \n",
       "\n",
       "   EngagementSurvey  EmpSatisfaction  SpecialProjectsCount  DaysLateLast30  \\\n",
       "0              4.60                5                     0               0   \n",
       "1              4.96                3                     6               0   \n",
       "2              3.02                3                     0               0   \n",
       "3              4.84                5                     0               0   \n",
       "4              5.00                4                     0               0   \n",
       "\n",
       "   Absences  \n",
       "0         1  \n",
       "1        17  \n",
       "2         3  \n",
       "3        15  \n",
       "4         2  "
      ]
     },
     "execution_count": 388,
     "metadata": {},
     "output_type": "execute_result"
    }
   ],
   "source": [
    "df_corr = df_cuanti[[\"PerfScoreID\",\"Salary\", \"Age\", \"Months_in_company\", \"Months_since_P_review\",\"EngagementSurvey\",\n",
    "                         \"EmpSatisfaction\",\"SpecialProjectsCount\",\"DaysLateLast30\",\"Absences\" ]]\n",
    "\n",
    "df_corr.head()"
   ]
  },
  {
   "cell_type": "code",
   "execution_count": 389,
   "metadata": {},
   "outputs": [
    {
     "data": {
      "image/png": "[encoded data removed]",
      "text/plain": [
       "<Figure size 1152x432 with 2 Axes>"
      ]
     },
     "metadata": {},
     "output_type": "display_data"
    }
   ],
   "source": [
    "\n",
    "plt.figure(figsize=(16, 6))\n",
    "\n",
    "heatmap = sns.heatmap(df_corr.corr(), vmin=-1, vmax=1, annot=True, cmap='BrBG')\n",
    "\n",
    "heatmap.set_title('Correlation Heatmap', fontdict={'fontsize':12}, pad=12)\n",
    "\n",
    "plt.show()"
   ]
  },
  {
   "cell_type": "markdown",
   "metadata": {},
   "source": [
    "Observaciones:\n",
    "- La última **evaluación del desempeño** correlaciona positivamente con la medición de engagement (externa) y satisfacción (interna). Correlaciona negativamente con los retrasos en los últimos 30 días\n",
    "- El **número de proyectos especiales** correlaciona positivamente con el salario\n",
    "- El **número de años en la compañía** correlaciona negativamente con el número de años sin evaluación del desempeño (los \"veteranos\" han tenido evaluaciones del desempeño más recientemente). Puede que haya colinearidad --> eliminar years since P review\n",
    "- La **medición de engagement (externa)** correlaciona negativamente con los retrasos en los últimos 30 días\n",
    "\n",
    "\n"
   ]
  },
  {
   "cell_type": "markdown",
   "metadata": {},
   "source": [
    "## Creación de variables categoriales binarias (dummy) y df finales"
   ]
  },
  {
   "cell_type": "markdown",
   "metadata": {},
   "source": [
    "### Variables dummy"
   ]
  },
  {
   "cell_type": "code",
   "execution_count": 476,
   "metadata": {},
   "outputs": [],
   "source": [
    "df_train_test = df_cuanti[[\"MaritalStatusID\",\"GenderID\", \"DeptID\", \"PerfScoreID\", \"Salary\",\n",
    "                           \"PositionID\", \"CitizenDesc\", \"RaceDesc\", \"ManagerID\", \"EngagementSurvey\",\n",
    "                           \"EmpSatisfaction\", \"SpecialProjectsCount\", \"DaysLateLast30\", \n",
    "                           \"Absences\", \"Age\", \"Months_in_company\", \"Months_since_P_review\"]]"
   ]
  },
  {
   "cell_type": "code",
   "execution_count": 477,
   "metadata": {},
   "outputs": [],
   "source": [
    "dummies = pd.get_dummies(df_train_test[[\"CitizenDesc\", \"RaceDesc\"]])"
   ]
  },
  {
   "cell_type": "markdown",
   "metadata": {},
   "source": [
    "### Dataframe final "
   ]
  },
  {
   "cell_type": "code",
   "execution_count": null,
   "metadata": {},
   "outputs": [],
   "source": [
    "df_final = df_train_test.merge(dummies, left_index=True, right_index=True).drop([\"CitizenDesc\", \"RaceDesc\", \"Months_since_P_review\"], axis=1)\n",
    "\n",
    "#monthssincepreview / months in company --> ELIMINAR 1 DEBIDO A MULTICOLINEARIDAD"
   ]
  },
  {
   "cell_type": "code",
   "execution_count": 478,
   "metadata": {},
   "outputs": [],
   "source": [
    "# ManagerID tiene valores vacíos\n",
    "\n",
    "df_final[\"ManagerID\"].fillna(0, inplace=True)"
   ]
  },
  {
   "cell_type": "code",
   "execution_count": 480,
   "metadata": {},
   "outputs": [
    {
     "data": {
      "text/html": [
       "<div>\n",
       "<style scoped>\n",
       "    .dataframe tbody tr th:only-of-type {\n",
       "        vertical-align: middle;\n",
       "    }\n",
       "\n",
       "    .dataframe tbody tr th {\n",
       "        vertical-align: top;\n",
       "    }\n",
       "\n",
       "    .dataframe thead th {\n",
       "        text-align: right;\n",
       "    }\n",
       "</style>\n",
       "<table border=\"1\" class=\"dataframe\">\n",
       "  <thead>\n",
       "    <tr style=\"text-align: right;\">\n",
       "      <th></th>\n",
       "      <th>MaritalStatusID</th>\n",
       "      <th>GenderID</th>\n",
       "      <th>DeptID</th>\n",
       "      <th>PerfScoreID</th>\n",
       "      <th>Salary</th>\n",
       "      <th>PositionID</th>\n",
       "      <th>ManagerID</th>\n",
       "      <th>EngagementSurvey</th>\n",
       "      <th>EmpSatisfaction</th>\n",
       "      <th>SpecialProjectsCount</th>\n",
       "      <th>DaysLateLast30</th>\n",
       "      <th>Absences</th>\n",
       "      <th>Age</th>\n",
       "      <th>Months_in_company</th>\n",
       "      <th>CitizenDesc_Eligible NonCitizen</th>\n",
       "      <th>CitizenDesc_Non-Citizen</th>\n",
       "      <th>CitizenDesc_US Citizen</th>\n",
       "      <th>RaceDesc_American Indian or Alaska Native</th>\n",
       "      <th>RaceDesc_Asian</th>\n",
       "      <th>RaceDesc_Black or African American</th>\n",
       "      <th>RaceDesc_Hispanic</th>\n",
       "      <th>RaceDesc_Two or more races</th>\n",
       "      <th>RaceDesc_White</th>\n",
       "    </tr>\n",
       "  </thead>\n",
       "  <tbody>\n",
       "    <tr>\n",
       "      <th>0</th>\n",
       "      <td>0</td>\n",
       "      <td>1</td>\n",
       "      <td>5</td>\n",
       "      <td>4</td>\n",
       "      <td>62506</td>\n",
       "      <td>19</td>\n",
       "      <td>22.0</td>\n",
       "      <td>4.60</td>\n",
       "      <td>5</td>\n",
       "      <td>0</td>\n",
       "      <td>0</td>\n",
       "      <td>1</td>\n",
       "      <td>37</td>\n",
       "      <td>108.0</td>\n",
       "      <td>0</td>\n",
       "      <td>0</td>\n",
       "      <td>1</td>\n",
       "      <td>0</td>\n",
       "      <td>0</td>\n",
       "      <td>0</td>\n",
       "      <td>0</td>\n",
       "      <td>0</td>\n",
       "      <td>1</td>\n",
       "    </tr>\n",
       "    <tr>\n",
       "      <th>1</th>\n",
       "      <td>1</td>\n",
       "      <td>1</td>\n",
       "      <td>3</td>\n",
       "      <td>3</td>\n",
       "      <td>104437</td>\n",
       "      <td>27</td>\n",
       "      <td>4.0</td>\n",
       "      <td>4.96</td>\n",
       "      <td>3</td>\n",
       "      <td>6</td>\n",
       "      <td>0</td>\n",
       "      <td>17</td>\n",
       "      <td>45</td>\n",
       "      <td>12.0</td>\n",
       "      <td>0</td>\n",
       "      <td>0</td>\n",
       "      <td>1</td>\n",
       "      <td>0</td>\n",
       "      <td>0</td>\n",
       "      <td>0</td>\n",
       "      <td>0</td>\n",
       "      <td>0</td>\n",
       "      <td>1</td>\n",
       "    </tr>\n",
       "    <tr>\n",
       "      <th>2</th>\n",
       "      <td>1</td>\n",
       "      <td>0</td>\n",
       "      <td>5</td>\n",
       "      <td>3</td>\n",
       "      <td>64955</td>\n",
       "      <td>20</td>\n",
       "      <td>20.0</td>\n",
       "      <td>3.02</td>\n",
       "      <td>3</td>\n",
       "      <td>0</td>\n",
       "      <td>0</td>\n",
       "      <td>3</td>\n",
       "      <td>32</td>\n",
       "      <td>12.0</td>\n",
       "      <td>0</td>\n",
       "      <td>0</td>\n",
       "      <td>1</td>\n",
       "      <td>0</td>\n",
       "      <td>0</td>\n",
       "      <td>0</td>\n",
       "      <td>0</td>\n",
       "      <td>0</td>\n",
       "      <td>1</td>\n",
       "    </tr>\n",
       "    <tr>\n",
       "      <th>3</th>\n",
       "      <td>1</td>\n",
       "      <td>0</td>\n",
       "      <td>5</td>\n",
       "      <td>3</td>\n",
       "      <td>64991</td>\n",
       "      <td>19</td>\n",
       "      <td>16.0</td>\n",
       "      <td>4.84</td>\n",
       "      <td>5</td>\n",
       "      <td>0</td>\n",
       "      <td>0</td>\n",
       "      <td>15</td>\n",
       "      <td>32</td>\n",
       "      <td>144.0</td>\n",
       "      <td>0</td>\n",
       "      <td>0</td>\n",
       "      <td>1</td>\n",
       "      <td>0</td>\n",
       "      <td>0</td>\n",
       "      <td>0</td>\n",
       "      <td>0</td>\n",
       "      <td>0</td>\n",
       "      <td>1</td>\n",
       "    </tr>\n",
       "    <tr>\n",
       "      <th>4</th>\n",
       "      <td>2</td>\n",
       "      <td>0</td>\n",
       "      <td>5</td>\n",
       "      <td>3</td>\n",
       "      <td>50825</td>\n",
       "      <td>19</td>\n",
       "      <td>39.0</td>\n",
       "      <td>5.00</td>\n",
       "      <td>4</td>\n",
       "      <td>0</td>\n",
       "      <td>0</td>\n",
       "      <td>2</td>\n",
       "      <td>31</td>\n",
       "      <td>60.0</td>\n",
       "      <td>0</td>\n",
       "      <td>0</td>\n",
       "      <td>1</td>\n",
       "      <td>0</td>\n",
       "      <td>0</td>\n",
       "      <td>0</td>\n",
       "      <td>0</td>\n",
       "      <td>0</td>\n",
       "      <td>1</td>\n",
       "    </tr>\n",
       "  </tbody>\n",
       "</table>\n",
       "</div>"
      ],
      "text/plain": [
       "   MaritalStatusID  GenderID  DeptID  PerfScoreID  Salary  PositionID  \\\n",
       "0                0         1       5            4   62506          19   \n",
       "1                1         1       3            3  104437          27   \n",
       "2                1         0       5            3   64955          20   \n",
       "3                1         0       5            3   64991          19   \n",
       "4                2         0       5            3   50825          19   \n",
       "\n",
       "   ManagerID  EngagementSurvey  EmpSatisfaction  SpecialProjectsCount  \\\n",
       "0       22.0              4.60                5                     0   \n",
       "1        4.0              4.96                3                     6   \n",
       "2       20.0              3.02                3                     0   \n",
       "3       16.0              4.84                5                     0   \n",
       "4       39.0              5.00                4                     0   \n",
       "\n",
       "   DaysLateLast30  Absences  Age  Months_in_company  \\\n",
       "0               0         1   37              108.0   \n",
       "1               0        17   45               12.0   \n",
       "2               0         3   32               12.0   \n",
       "3               0        15   32              144.0   \n",
       "4               0         2   31               60.0   \n",
       "\n",
       "   CitizenDesc_Eligible NonCitizen  CitizenDesc_Non-Citizen  \\\n",
       "0                                0                        0   \n",
       "1                                0                        0   \n",
       "2                                0                        0   \n",
       "3                                0                        0   \n",
       "4                                0                        0   \n",
       "\n",
       "   CitizenDesc_US Citizen  RaceDesc_American Indian or Alaska Native  \\\n",
       "0                       1                                          0   \n",
       "1                       1                                          0   \n",
       "2                       1                                          0   \n",
       "3                       1                                          0   \n",
       "4                       1                                          0   \n",
       "\n",
       "   RaceDesc_Asian  RaceDesc_Black or African American  RaceDesc_Hispanic  \\\n",
       "0               0                                   0                  0   \n",
       "1               0                                   0                  0   \n",
       "2               0                                   0                  0   \n",
       "3               0                                   0                  0   \n",
       "4               0                                   0                  0   \n",
       "\n",
       "   RaceDesc_Two or more races  RaceDesc_White  \n",
       "0                           0               1  \n",
       "1                           0               1  \n",
       "2                           0               1  \n",
       "3                           0               1  \n",
       "4                           0               1  "
      ]
     },
     "execution_count": 480,
     "metadata": {},
     "output_type": "execute_result"
    }
   ],
   "source": [
    "df_final.head()"
   ]
  },
  {
   "cell_type": "markdown",
   "metadata": {},
   "source": [
    "## Cálculo de índices de rotación de personal"
   ]
  },
  {
   "cell_type": "markdown",
   "metadata": {},
   "source": [
    "### Variable mes-año"
   ]
  },
  {
   "cell_type": "code",
   "execution_count": 286,
   "metadata": {},
   "outputs": [],
   "source": [
    "link = \"https://raw.githubusercontent.com/darista92/TFM/main/dates_parsed.csv\"\n",
    "\n",
    "df_dates = pd.read_csv(link, delimiter=\";\")\n",
    "\n",
    "df_dates.head()\n",
    "\n",
    "month_in = pd.to_datetime(df_dates[\"DateofHire\"], format=\"%Y-%m\")\n",
    "\n",
    "month_out = pd.to_datetime(df_dates[\"DateofTermination\"], format=\"%Y-%m\")"
   ]
  },
  {
   "cell_type": "code",
   "execution_count": 287,
   "metadata": {},
   "outputs": [],
   "source": [
    "basis_loop = np.datetime64(\"2006-01\")\n",
    "top = np.datetime64(\"2021-01\")\n",
    "\n",
    "monthly_data = []\n",
    "\n",
    "while basis_loop < top:\n",
    "    monthly_data.append(basis_loop)\n",
    "    basis_loop += np.timedelta64(1,\"M\")"
   ]
  },
  {
   "cell_type": "markdown",
   "metadata": {},
   "source": [
    "### Variables contratación y terminación (absoluta y acumulada)"
   ]
  },
  {
   "cell_type": "code",
   "execution_count": 288,
   "metadata": {},
   "outputs": [
    {
     "name": "stdout",
     "output_type": "stream",
     "text": [
      "[0, 1, 1, 1, 1, 1, 1, 1, 1, 1, 1, 1, 1, 1, 1, 1, 1, 1, 2, 2, 2, 2, 2, 3, 3, 4, 4, 4, 4, 4, 4, 4, 4, 5, 6, 6, 6, 10, 10, 10, 11, 11, 11, 12, 12, 12, 13, 13, 13, 13, 13, 13, 16, 17, 17, 18, 20, 21, 22, 22, 22, 37, 43, 44, 52, 64, 66, 79, 84, 94, 95, 105, 105, 113, 118, 121, 131, 135, 135, 139, 143, 147, 148, 150, 150, 155, 157, 157, 160, 163, 163, 172, 178, 187, 187, 194, 194, 200, 207, 210, 210, 220, 220, 229, 232, 245, 245, 253, 254, 265, 273, 285, 285, 287, 289, 290, 290, 290, 290, 290, 290, 292, 292, 292, 292, 293, 296, 301, 301, 302, 304, 304, 304, 305, 308, 308, 310, 310, 310, 310, 310, 310, 310, 310, 310, 310, 310, 310, 310, 310, 310, 311, 311, 311, 311, 311, 311, 311, 311, 311, 311, 311, 311, 311, 311, 311, 311, 311, 311, 311, 311, 311, 311, 311, 311, 311, 311, 311, 311, 311]\n"
     ]
    }
   ],
   "source": [
    "cumul_in = []\n",
    "counter = 0\n",
    "\n",
    "for i in monthly_data:\n",
    "    for j in list(month_in):\n",
    "        if i > j :\n",
    "            counter += 1         \n",
    "    cumul_in.append(counter)\n",
    "    counter=0\n",
    "\n",
    "print(cumul_in)"
   ]
  },
  {
   "cell_type": "code",
   "execution_count": 289,
   "metadata": {},
   "outputs": [],
   "source": [
    "def monthly_difference(agg_list):\n",
    "    empty_list = [0]  \n",
    "    for i in range(1,len(agg_list)):\n",
    "        x = agg_list[i] - agg_list[i-1]\n",
    "        empty_list.append(x)\n",
    "    return empty_list"
   ]
  },
  {
   "cell_type": "code",
   "execution_count": 275,
   "metadata": {},
   "outputs": [],
   "source": [
    "hirings = monthly_difference(cumul_in)"
   ]
  },
  {
   "cell_type": "code",
   "execution_count": 323,
   "metadata": {},
   "outputs": [
    {
     "name": "stdout",
     "output_type": "stream",
     "text": [
      "[0, 0, 0, 0, 0, 0, 0, 0, 0, 0, 0, 0, 0, 0, 0, 0, 0, 0, 0, 0, 0, 0, 0, 0, 0, 0, 0, 0, 0, 0, 0, 0, 0, 0, 0, 0, 0, 0, 0, 0, 0, 0, 0, 0, 0, 0, 0, 0, 0, 0, 0, 0, 0, 0, 0, 0, 1, 1, 1, 1, 1, 1, 1, 1, 1, 2, 2, 2, 2, 3, 4, 4, 4, 5, 6, 6, 7, 8, 8, 8, 9, 11, 11, 12, 12, 14, 15, 15, 18, 18, 23, 23, 24, 25, 25, 25, 25, 28, 28, 29, 32, 33, 33, 34, 36, 37, 38, 38, 38, 38, 38, 39, 41, 41, 45, 45, 46, 53, 55, 59, 61, 63, 68, 68, 69, 74, 76, 76, 76, 81, 81, 83, 83, 84, 85, 85, 86, 86, 87, 88, 89, 90, 90, 90, 91, 91, 92, 92, 95, 96, 97, 98, 101, 103, 103, 104, 104, 104, 104, 104, 104, 104, 104, 104, 104, 104, 104, 104, 104, 104, 104, 104, 104, 104, 104, 104, 104, 104, 104, 104]\n"
     ]
    }
   ],
   "source": [
    "cumul_out = []\n",
    "counter = 0\n",
    "\n",
    "for i in monthly_data:\n",
    "    for j in list(month_out):\n",
    "        if i > j:\n",
    "            counter += 1\n",
    "    cumul_out.append(counter)\n",
    "    counter=0\n",
    "\n",
    "print(cumul_out)"
   ]
  },
  {
   "cell_type": "code",
   "execution_count": 324,
   "metadata": {},
   "outputs": [],
   "source": [
    "terminations = monthly_difference(cumul_out)"
   ]
  },
  {
   "cell_type": "markdown",
   "metadata": {},
   "source": [
    "### Dataframe con datos sobre contrataciones y terminaciones por mes"
   ]
  },
  {
   "cell_type": "code",
   "execution_count": 327,
   "metadata": {},
   "outputs": [
    {
     "data": {
      "text/html": [
       "<div>\n",
       "<style scoped>\n",
       "    .dataframe tbody tr th:only-of-type {\n",
       "        vertical-align: middle;\n",
       "    }\n",
       "\n",
       "    .dataframe tbody tr th {\n",
       "        vertical-align: top;\n",
       "    }\n",
       "\n",
       "    .dataframe thead th {\n",
       "        text-align: right;\n",
       "    }\n",
       "</style>\n",
       "<table border=\"1\" class=\"dataframe\">\n",
       "  <thead>\n",
       "    <tr style=\"text-align: right;\">\n",
       "      <th></th>\n",
       "      <th>month</th>\n",
       "      <th>hirings</th>\n",
       "      <th>terminations</th>\n",
       "      <th>cumul_hirings</th>\n",
       "      <th>cumul_terminations</th>\n",
       "      <th>headcount</th>\n",
       "    </tr>\n",
       "  </thead>\n",
       "  <tbody>\n",
       "    <tr>\n",
       "      <th>175</th>\n",
       "      <td>2020-08-01</td>\n",
       "      <td>0</td>\n",
       "      <td>0</td>\n",
       "      <td>311</td>\n",
       "      <td>104</td>\n",
       "      <td>207</td>\n",
       "    </tr>\n",
       "    <tr>\n",
       "      <th>176</th>\n",
       "      <td>2020-09-01</td>\n",
       "      <td>0</td>\n",
       "      <td>0</td>\n",
       "      <td>311</td>\n",
       "      <td>104</td>\n",
       "      <td>207</td>\n",
       "    </tr>\n",
       "    <tr>\n",
       "      <th>177</th>\n",
       "      <td>2020-10-01</td>\n",
       "      <td>0</td>\n",
       "      <td>0</td>\n",
       "      <td>311</td>\n",
       "      <td>104</td>\n",
       "      <td>207</td>\n",
       "    </tr>\n",
       "    <tr>\n",
       "      <th>178</th>\n",
       "      <td>2020-11-01</td>\n",
       "      <td>0</td>\n",
       "      <td>0</td>\n",
       "      <td>311</td>\n",
       "      <td>104</td>\n",
       "      <td>207</td>\n",
       "    </tr>\n",
       "    <tr>\n",
       "      <th>179</th>\n",
       "      <td>2020-12-01</td>\n",
       "      <td>0</td>\n",
       "      <td>0</td>\n",
       "      <td>311</td>\n",
       "      <td>104</td>\n",
       "      <td>207</td>\n",
       "    </tr>\n",
       "  </tbody>\n",
       "</table>\n",
       "</div>"
      ],
      "text/plain": [
       "         month  hirings  terminations  cumul_hirings  cumul_terminations  \\\n",
       "175 2020-08-01        0             0            311                 104   \n",
       "176 2020-09-01        0             0            311                 104   \n",
       "177 2020-10-01        0             0            311                 104   \n",
       "178 2020-11-01        0             0            311                 104   \n",
       "179 2020-12-01        0             0            311                 104   \n",
       "\n",
       "     headcount  \n",
       "175        207  \n",
       "176        207  \n",
       "177        207  \n",
       "178        207  \n",
       "179        207  "
      ]
     },
     "execution_count": 327,
     "metadata": {},
     "output_type": "execute_result"
    }
   ],
   "source": [
    "monthly_df = pd.DataFrame({\"month\":monthly_data, \"hirings\": hirings, \"terminations\": terminations})\n",
    "\n",
    "monthly_df[\"cumul_hirings\"] = cumul_in\n",
    "monthly_df[\"cumul_terminations\"] = cumul_out\n",
    "monthly_df[\"headcount\"] = monthly_df[\"cumul_hirings\"] - monthly_df[\"cumul_terminations\"]\n",
    "\n",
    "\n",
    "monthly_df.tail()"
   ]
  },
  {
   "cell_type": "markdown",
   "metadata": {},
   "source": [
    "### Visualización en línea temporal"
   ]
  },
  {
   "cell_type": "code",
   "execution_count": 328,
   "metadata": {},
   "outputs": [
    {
     "data": {
      "image/png": "[encoded data removed]",
      "text/plain": [
       "<Figure size 720x432 with 1 Axes>"
      ]
     },
     "metadata": {},
     "output_type": "display_data"
    }
   ],
   "source": [
    "fig, ax = plt.subplots(figsize=(10,6))\n",
    "sns.lineplot(data=monthly_df, x=\"month\", y=\"headcount\")\n",
    "plt.xlabel(\"Year\")\n",
    "plt.title(\"headcount variation over time\")\n",
    "plt.show()"
   ]
  },
  {
   "cell_type": "code",
   "execution_count": 348,
   "metadata": {},
   "outputs": [
    {
     "data": {
      "image/png": "[encoded data removed]",
      "text/plain": [
       "<Figure size 720x432 with 1 Axes>"
      ]
     },
     "metadata": {},
     "output_type": "display_data"
    }
   ],
   "source": [
    "fig, ax = plt.subplots(figsize=(10,6))\n",
    "sns.histplot(data=monthly_df, x=\"month\", y=\"hirings\", color=\"g\", bins=40)\n",
    "sns.histplot(data=monthly_df, x=\"month\", y=\"terminations\", color=\"r\", bins=40)\n",
    "plt.xlabel(\"Year\")\n",
    "plt.ylabel(\"n of hirings / terminations\")\n",
    "plt.title(\"Hirings and terminations over time\")\n",
    "plt.show()"
   ]
  },
  {
   "cell_type": "markdown",
   "metadata": {},
   "source": [
    "### índice de rotación de personal"
   ]
  },
  {
   "cell_type": "code",
   "execution_count": 453,
   "metadata": {},
   "outputs": [
    {
     "name": "stdout",
     "output_type": "stream",
     "text": [
      "Turnover index in 2020 is 0%\n"
     ]
    }
   ],
   "source": [
    "terminations_2020 = monthly_df.query(\"month >= '2020-01-01'\")[\"terminations\"].sum()\n",
    "mean_headcount_2020 = monthly_df.query(\"month >= '2020-01-01'\")[\"headcount\"].mean()\n",
    "\n",
    "print(\"Turnover index in 2020 is \" + str(round(terminations_2020/mean_headcount_2020*100)) +\"%\")\n",
    "\n"
   ]
  },
  {
   "cell_type": "code",
   "execution_count": 455,
   "metadata": {},
   "outputs": [
    {
     "name": "stdout",
     "output_type": "stream",
     "text": [
      "Turnover index in the last 10 years is 21%\n",
      "Average turnover index during the last 10 years is 2.1%\n"
     ]
    }
   ],
   "source": [
    "terminations_last10 = monthly_df.query(\"month >= '2011-01-01'\")[\"terminations\"].sum()\n",
    "\n",
    "mean_headcount_last10 = round(monthly_df.query(\"month >= '2011-01-01'\")[\"headcount\"].mean(),2)\n",
    "\n",
    "print(\"Turnover index in the last 10 years is \" + str(round(terminations_last5/mean_headcount_last5*100)) +\"%\")\n",
    "\n",
    "print(\"Average turnover index during the last 10 years is \" + str(round(terminations_last5/mean_headcount_last5*100/10, 2))\n",
    "+ \"%\")\n"
   ]
  },
  {
   "cell_type": "markdown",
   "metadata": {},
   "source": [
    "### índice de rotación de personal voluntario"
   ]
  },
  {
   "cell_type": "code",
   "execution_count": 456,
   "metadata": {},
   "outputs": [
    {
     "data": {
      "text/plain": [
       "['Another position',\n",
       " 'attendance',\n",
       " 'performance',\n",
       " 'retiring',\n",
       " 'no-call, no-show',\n",
       " 'medical issues',\n",
       " 'N/A-StillEmployed',\n",
       " 'N/A-StillEmployed']"
      ]
     },
     "execution_count": 456,
     "metadata": {},
     "output_type": "execute_result"
    }
   ],
   "source": [
    "non_voluntary = inv_reasons\n",
    "non_voluntary.append(\"N/A-StillEmployed\")\n",
    "\n",
    "non_voluntary"
   ]
  },
  {
   "cell_type": "code",
   "execution_count": 457,
   "metadata": {},
   "outputs": [
    {
     "data": {
      "text/plain": [
       "0      False\n",
       "1       True\n",
       "2       True\n",
       "3      False\n",
       "4       True\n",
       "       ...  \n",
       "306    False\n",
       "307    False\n",
       "308    False\n",
       "309    False\n",
       "310    False\n",
       "Name: Voluntary_termination, Length: 311, dtype: bool"
      ]
     },
     "execution_count": 457,
     "metadata": {},
     "output_type": "execute_result"
    }
   ],
   "source": [
    "df_cuanti[\"Voluntary_termination\"] = ~df_cuanti[\"TermReason\"].isin(non_voluntary)\n",
    "\n",
    "\n",
    "df_cuanti.Voluntary_termination"
   ]
  },
  {
   "cell_type": "markdown",
   "metadata": {},
   "source": [
    "Dado que el número de salidas es 0 en 2020, el índice de rotación de personal voluntaria también será 0. Se calculará, pues, el índice de rotación de personal voluntaria para los últimos 10 años"
   ]
  },
  {
   "cell_type": "code",
   "execution_count": 475,
   "metadata": {},
   "outputs": [
    {
     "name": "stdout",
     "output_type": "stream",
     "text": [
      "Voluntary turnover index in the last 10 years is 55.34%\n",
      "Average voluntary turnover index during the last 10 years is 5.53%\n"
     ]
    }
   ],
   "source": [
    "voluntary_leavers_last10 = len(df_cuanti.query(\"DateofHire >= '2011-01-01' & Voluntary_termination == True\"))\n",
    "\n",
    "print(\"Voluntary turnover index in the last 10 years is \" + str(round(voluntary_leavers_last10/terminations_last10*100,2))+\"%\")\n",
    "\n",
    "print(\"Average voluntary turnover index during the last 10 years is \" + str(round(voluntary_leavers_last10/terminations_last10*100/10, 2))\n",
    "+ \"%\")\n"
   ]
  },
  {
   "cell_type": "markdown",
   "metadata": {},
   "source": [
    "# Creación y fit del modelo"
   ]
  },
  {
   "cell_type": "markdown",
   "metadata": {},
   "source": [
    "## Ensamblamiento del dataframe para train/test"
   ]
  },
  {
   "cell_type": "code",
   "execution_count": 543,
   "metadata": {},
   "outputs": [
    {
     "name": "stdout",
     "output_type": "stream",
     "text": [
      "(311, 23) (311,)\n"
     ]
    }
   ],
   "source": [
    "X = np.asarray(df_final)\n",
    "\n",
    "X = StandardScaler().fit(X).transform(X)\n",
    "\n",
    "y = np.asarray(df_cuanti[\"Termd\"])\n",
    "\n",
    "print(X.shape, y.shape)"
   ]
  },
  {
   "cell_type": "code",
   "execution_count": 544,
   "metadata": {},
   "outputs": [
    {
     "name": "stdout",
     "output_type": "stream",
     "text": [
      "(248, 23)\n",
      "(63, 23)\n",
      "(248,)\n",
      "(63,)\n"
     ]
    }
   ],
   "source": [
    "X_train, X_test, y_train, y_test = train_test_split(X,y,test_size=0.2, random_state=42)\n",
    "\n",
    "for i in X_train, X_test, y_train, y_test:\n",
    "    print (i.shape)    "
   ]
  },
  {
   "cell_type": "markdown",
   "metadata": {},
   "source": [
    "## Aplicación del modelo algorítmico"
   ]
  },
  {
   "cell_type": "code",
   "execution_count": 545,
   "metadata": {},
   "outputs": [
    {
     "data": {
      "text/plain": [
       "RandomForestClassifier(max_features=12, n_estimators=500, random_state=42)"
      ]
     },
     "execution_count": 545,
     "metadata": {},
     "output_type": "execute_result"
    }
   ],
   "source": [
    "model = RandomForestClassifier(n_estimators=500, max_features=12, random_state=42)\n",
    "\n",
    "model.fit(X_train, y_train)"
   ]
  },
  {
   "cell_type": "markdown",
   "metadata": {},
   "source": [
    "# Predicciones y evaluación del modelo"
   ]
  },
  {
   "cell_type": "code",
   "execution_count": 546,
   "metadata": {},
   "outputs": [],
   "source": [
    "y_pred = model.predict(X_test)"
   ]
  },
  {
   "cell_type": "code",
   "execution_count": 547,
   "metadata": {},
   "outputs": [
    {
     "name": "stdout",
     "output_type": "stream",
     "text": [
      "              precision    recall  f1-score   support\n",
      "\n",
      "           0       0.84      0.93      0.88        41\n",
      "           1       0.83      0.68      0.75        22\n",
      "\n",
      "    accuracy                           0.84        63\n",
      "   macro avg       0.84      0.80      0.82        63\n",
      "weighted avg       0.84      0.84      0.84        63\n",
      "\n"
     ]
    }
   ],
   "source": [
    "print(metrics.classification_report(y_test, y_pred))"
   ]
  },
  {
   "cell_type": "code",
   "execution_count": 548,
   "metadata": {},
   "outputs": [
    {
     "data": {
      "image/png": "[encoded data removed]",
      "text/plain": [
       "<Figure size 432x288 with 1 Axes>"
      ]
     },
     "metadata": {},
     "output_type": "display_data"
    }
   ],
   "source": [
    "acc_p_t = [] #accuracy per tree\n",
    "\n",
    "for i in range(1,10):\n",
    "    model = RandomForestClassifier(n_estimators=i, random_state=42)\n",
    "    model.fit(X_train, y_train)\n",
    "    y_pred = model.predict(X_test)\n",
    "    acc_p_t.append(metrics.accuracy_score(y_test, y_pred))\n",
    "    \n",
    "    \n",
    "x_rangerino = range(1,10)\n",
    "plt.plot(x_rangerino, acc_p_t)\n",
    "plt.show()"
   ]
  },
  {
   "cell_type": "code",
   "execution_count": 549,
   "metadata": {},
   "outputs": [
    {
     "data": {
      "image/png": "[encoded data removed]",
      "text/plain": [
       "<Figure size 432x288 with 1 Axes>"
      ]
     },
     "metadata": {},
     "output_type": "display_data"
    }
   ],
   "source": [
    "acc_p_e = [] #accuracy per estimator\n",
    "\n",
    "for i in range(1,20):\n",
    "    model = RandomForestClassifier(n_estimators=500, max_features=i,random_state=42)\n",
    "    model.fit(X_train, y_train)\n",
    "    y_pred = model.predict(X_test)\n",
    "    acc_p_e.append(metrics.accuracy_score(y_test, y_pred))\n",
    "    \n",
    "x_rangerino2 = range(1,20)\n",
    "plt.plot(x_rangerino2, acc_p_e)\n",
    "plt.show()"
   ]
  },
  {
   "cell_type": "markdown",
   "metadata": {},
   "source": [
    "# Visualización"
   ]
  },
  {
   "cell_type": "code",
   "execution_count": 610,
   "metadata": {},
   "outputs": [
    {
     "name": "stdout",
     "output_type": "stream",
     "text": [
      "[[38  3]\n",
      " [ 7 15]]\n"
     ]
    },
    {
     "data": {
      "text/plain": [
       "<AxesSubplot:>"
      ]
     },
     "execution_count": 610,
     "metadata": {},
     "output_type": "execute_result"
    },
    {
     "data": {
      "image/png": "[encoded data removed]",
      "text/plain": [
       "<Figure size 432x288 with 2 Axes>"
      ]
     },
     "metadata": {},
     "output_type": "display_data"
    }
   ],
   "source": [
    "cm = metrics.confusion_matrix(y_test, y_pred)\n",
    "\n",
    "print(cm)\n",
    "\n",
    "sns.heatmap(cm, annot=True)"
   ]
  },
  {
   "cell_type": "code",
   "execution_count": 611,
   "metadata": {},
   "outputs": [
    {
     "data": {
      "text/html": [
       "<div>\n",
       "<style scoped>\n",
       "    .dataframe tbody tr th:only-of-type {\n",
       "        vertical-align: middle;\n",
       "    }\n",
       "\n",
       "    .dataframe tbody tr th {\n",
       "        vertical-align: top;\n",
       "    }\n",
       "\n",
       "    .dataframe thead th {\n",
       "        text-align: right;\n",
       "    }\n",
       "</style>\n",
       "<table border=\"1\" class=\"dataframe\">\n",
       "  <thead>\n",
       "    <tr style=\"text-align: right;\">\n",
       "      <th></th>\n",
       "      <th>importance</th>\n",
       "    </tr>\n",
       "  </thead>\n",
       "  <tbody>\n",
       "    <tr>\n",
       "      <th>Months_in_company</th>\n",
       "      <td>0.512238</td>\n",
       "    </tr>\n",
       "    <tr>\n",
       "      <th>ManagerID</th>\n",
       "      <td>0.094828</td>\n",
       "    </tr>\n",
       "    <tr>\n",
       "      <th>Salary</th>\n",
       "      <td>0.082505</td>\n",
       "    </tr>\n",
       "    <tr>\n",
       "      <th>SpecialProjectsCount</th>\n",
       "      <td>0.052468</td>\n",
       "    </tr>\n",
       "    <tr>\n",
       "      <th>Absences</th>\n",
       "      <td>0.048212</td>\n",
       "    </tr>\n",
       "    <tr>\n",
       "      <th>Age</th>\n",
       "      <td>0.040697</td>\n",
       "    </tr>\n",
       "    <tr>\n",
       "      <th>EngagementSurvey</th>\n",
       "      <td>0.039885</td>\n",
       "    </tr>\n",
       "    <tr>\n",
       "      <th>EmpSatisfaction</th>\n",
       "      <td>0.020378</td>\n",
       "    </tr>\n",
       "    <tr>\n",
       "      <th>MaritalStatusID</th>\n",
       "      <td>0.018125</td>\n",
       "    </tr>\n",
       "    <tr>\n",
       "      <th>PositionID</th>\n",
       "      <td>0.017559</td>\n",
       "    </tr>\n",
       "    <tr>\n",
       "      <th>DaysLateLast30</th>\n",
       "      <td>0.017055</td>\n",
       "    </tr>\n",
       "    <tr>\n",
       "      <th>DeptID</th>\n",
       "      <td>0.014603</td>\n",
       "    </tr>\n",
       "    <tr>\n",
       "      <th>PerfScoreID</th>\n",
       "      <td>0.013050</td>\n",
       "    </tr>\n",
       "    <tr>\n",
       "      <th>RaceDesc_Black or African American</th>\n",
       "      <td>0.006751</td>\n",
       "    </tr>\n",
       "    <tr>\n",
       "      <th>GenderID</th>\n",
       "      <td>0.006551</td>\n",
       "    </tr>\n",
       "    <tr>\n",
       "      <th>RaceDesc_White</th>\n",
       "      <td>0.005151</td>\n",
       "    </tr>\n",
       "    <tr>\n",
       "      <th>CitizenDesc_Non-Citizen</th>\n",
       "      <td>0.004395</td>\n",
       "    </tr>\n",
       "    <tr>\n",
       "      <th>CitizenDesc_US Citizen</th>\n",
       "      <td>0.002170</td>\n",
       "    </tr>\n",
       "    <tr>\n",
       "      <th>RaceDesc_Asian</th>\n",
       "      <td>0.001706</td>\n",
       "    </tr>\n",
       "    <tr>\n",
       "      <th>CitizenDesc_Eligible NonCitizen</th>\n",
       "      <td>0.001246</td>\n",
       "    </tr>\n",
       "    <tr>\n",
       "      <th>RaceDesc_Two or more races</th>\n",
       "      <td>0.000428</td>\n",
       "    </tr>\n",
       "    <tr>\n",
       "      <th>RaceDesc_American Indian or Alaska Native</th>\n",
       "      <td>0.000000</td>\n",
       "    </tr>\n",
       "    <tr>\n",
       "      <th>RaceDesc_Hispanic</th>\n",
       "      <td>0.000000</td>\n",
       "    </tr>\n",
       "  </tbody>\n",
       "</table>\n",
       "</div>"
      ],
      "text/plain": [
       "                                           importance\n",
       "Months_in_company                            0.512238\n",
       "ManagerID                                    0.094828\n",
       "Salary                                       0.082505\n",
       "SpecialProjectsCount                         0.052468\n",
       "Absences                                     0.048212\n",
       "Age                                          0.040697\n",
       "EngagementSurvey                             0.039885\n",
       "EmpSatisfaction                              0.020378\n",
       "MaritalStatusID                              0.018125\n",
       "PositionID                                   0.017559\n",
       "DaysLateLast30                               0.017055\n",
       "DeptID                                       0.014603\n",
       "PerfScoreID                                  0.013050\n",
       "RaceDesc_Black or African American           0.006751\n",
       "GenderID                                     0.006551\n",
       "RaceDesc_White                               0.005151\n",
       "CitizenDesc_Non-Citizen                      0.004395\n",
       "CitizenDesc_US Citizen                       0.002170\n",
       "RaceDesc_Asian                               0.001706\n",
       "CitizenDesc_Eligible NonCitizen              0.001246\n",
       "RaceDesc_Two or more races                   0.000428\n",
       "RaceDesc_American Indian or Alaska Native    0.000000\n",
       "RaceDesc_Hispanic                            0.000000"
      ]
     },
     "execution_count": 611,
     "metadata": {},
     "output_type": "execute_result"
    }
   ],
   "source": [
    "features = pd.DataFrame(model.feature_importances_, index = df_final.columns,\n",
    "                       columns = [\"importance\"]).sort_values(\"importance\", ascending=False)\n",
    "\n",
    "features"
   ]
  },
  {
   "cell_type": "code",
   "execution_count": 612,
   "metadata": {},
   "outputs": [
    {
     "data": {
      "image/png": "[encoded data removed]",
      "text/plain": [
       "<Figure size 1008x504 with 1 Axes>"
      ]
     },
     "metadata": {},
     "output_type": "display_data"
    }
   ],
   "source": [
    "plt.figure(figsize=(14,7))\n",
    "query = features.query(\"importance > 0.03\")\n",
    "sns.barplot(data=query, y=query.index, x=\"importance\", orient=\"h\")\n",
    "plt.xticks(rotation=90)\n",
    "plt.show()\n"
   ]
  },
  {
   "cell_type": "code",
   "execution_count": 613,
   "metadata": {},
   "outputs": [],
   "source": [
    "# FALTA SHAPLEY"
   ]
  },
  {
   "cell_type": "markdown",
   "metadata": {},
   "source": [
    "# Aplicación del modelo a la predicción de rotación de personal voluntaria"
   ]
  },
  {
   "cell_type": "code",
   "execution_count": 614,
   "metadata": {},
   "outputs": [
    {
     "name": "stdout",
     "output_type": "stream",
     "text": [
      "(311, 23) (311,)\n"
     ]
    }
   ],
   "source": [
    "X_v = np.asarray(df_final)\n",
    "\n",
    "X_v = StandardScaler().fit(X).transform(X)\n",
    "\n",
    "y_v = np.array(df_cuanti.Voluntary_termination.astype(\"int\"))\n",
    "\n",
    "print(X_v.shape, y_v.shape)"
   ]
  },
  {
   "cell_type": "code",
   "execution_count": 555,
   "metadata": {},
   "outputs": [
    {
     "name": "stdout",
     "output_type": "stream",
     "text": [
      "(248, 23)\n",
      "(63, 23)\n",
      "(248,)\n",
      "(63,)\n"
     ]
    }
   ],
   "source": [
    "X_vtrain, X_vtest, y_vtrain, y_vtest = train_test_split(X_v,y_v,test_size=0.2, random_state=42)\n",
    "\n",
    "for i in X_vtrain, X_vtest, y_vtrain, y_vtest:\n",
    "    print (i.shape)  "
   ]
  },
  {
   "cell_type": "code",
   "execution_count": 556,
   "metadata": {},
   "outputs": [
    {
     "data": {
      "text/plain": [
       "RandomForestClassifier(max_features=17, n_estimators=500, random_state=42)"
      ]
     },
     "execution_count": 556,
     "metadata": {},
     "output_type": "execute_result"
    }
   ],
   "source": [
    "model_v = RandomForestClassifier(n_estimators=500, max_features=17, random_state=42)\n",
    "\n",
    "model_v.fit(X_vtrain, y_vtrain)"
   ]
  },
  {
   "cell_type": "code",
   "execution_count": 557,
   "metadata": {},
   "outputs": [],
   "source": [
    "y_vpred = model_v.predict(X_vtest)"
   ]
  },
  {
   "cell_type": "code",
   "execution_count": 558,
   "metadata": {},
   "outputs": [
    {
     "name": "stdout",
     "output_type": "stream",
     "text": [
      "              precision    recall  f1-score   support\n",
      "\n",
      "           0       0.84      0.98      0.90        48\n",
      "           1       0.86      0.40      0.55        15\n",
      "\n",
      "    accuracy                           0.84        63\n",
      "   macro avg       0.85      0.69      0.72        63\n",
      "weighted avg       0.84      0.84      0.82        63\n",
      "\n"
     ]
    }
   ],
   "source": [
    "print(metrics.classification_report(y_vtest, y_vpred))"
   ]
  },
  {
   "cell_type": "code",
   "execution_count": 559,
   "metadata": {},
   "outputs": [
    {
     "data": {
      "text/plain": [
       "'acc_p_t_v = [] #accuracy per tree\\n\\nfor i in range(1,10):\\n    model_v = RandomForestClassifier(n_estimators=i, random_state=42)\\n    model_v.fit(X_train, y_train)\\n    y_vpred = model_v.predict(X_test)\\n    acc_p_t_v.append(metrics.accuracy_score(y_vtest, y_vpred))\\n    \\n    \\nx_vrangerino = range(1,10)\\nplt.plot(x_vrangerino, acc_p_t_v)\\nplt.show()'"
      ]
     },
     "execution_count": 559,
     "metadata": {},
     "output_type": "execute_result"
    }
   ],
   "source": [
    "'''acc_p_t_v = [] #accuracy per tree\n",
    "\n",
    "for i in range(1,10):\n",
    "    model_v = RandomForestClassifier(n_estimators=i, random_state=42)\n",
    "    model_v.fit(X_train, y_train)\n",
    "    y_vpred = model_v.predict(X_test)\n",
    "    acc_p_t_v.append(metrics.accuracy_score(y_vtest, y_vpred))\n",
    "    \n",
    "    \n",
    "x_vrangerino = range(1,10)\n",
    "plt.plot(x_vrangerino, acc_p_t_v)\n",
    "plt.show()'''"
   ]
  },
  {
   "cell_type": "code",
   "execution_count": 560,
   "metadata": {},
   "outputs": [
    {
     "data": {
      "text/plain": [
       "'acc_p_e_v = [] #accuracy per estimator\\n\\nfor i in range(1,20):\\n    model_v = RandomForestClassifier(n_estimators=500, max_features=i,random_state=42)\\n    model_V.fit(X_train, y_train)\\n    y_vpred = model_v.predict(X_vtest)\\n    acc_p_e_v.append(metrics.accuracy_score(y_vtest, y_vpred))\\n    \\nx_vrangerino2 = range(1,20)\\nplt.plot(x_vrangerino2, acc_p_e_v)\\nplt.show()'"
      ]
     },
     "execution_count": 560,
     "metadata": {},
     "output_type": "execute_result"
    }
   ],
   "source": [
    "'''acc_p_e_v = [] #accuracy per estimator\n",
    "\n",
    "for i in range(1,20):\n",
    "    model_v = RandomForestClassifier(n_estimators=500, max_features=i,random_state=42)\n",
    "    model_V.fit(X_train, y_train)\n",
    "    y_vpred = model_v.predict(X_vtest)\n",
    "    acc_p_e_v.append(metrics.accuracy_score(y_vtest, y_vpred))\n",
    "    \n",
    "x_vrangerino2 = range(1,20)\n",
    "plt.plot(x_vrangerino2, acc_p_e_v)\n",
    "plt.show()'''"
   ]
  },
  {
   "cell_type": "code",
   "execution_count": 615,
   "metadata": {},
   "outputs": [
    {
     "name": "stdout",
     "output_type": "stream",
     "text": [
      "[[38  3]\n",
      " [ 7 15]]\n"
     ]
    },
    {
     "data": {
      "text/plain": [
       "<AxesSubplot:>"
      ]
     },
     "execution_count": 615,
     "metadata": {},
     "output_type": "execute_result"
    },
    {
     "data": {
      "image/png": "[encoded data removed]",
      "text/plain": [
       "<Figure size 432x288 with 2 Axes>"
      ]
     },
     "metadata": {},
     "output_type": "display_data"
    }
   ],
   "source": [
    "cm_v = metrics.confusion_matrix(y_vtest, y_vpred)\n",
    "\n",
    "print(cm)\n",
    "\n",
    "sns.heatmap(cm, annot=True)"
   ]
  },
  {
   "cell_type": "code",
   "execution_count": 616,
   "metadata": {},
   "outputs": [
    {
     "data": {
      "text/html": [
       "<div>\n",
       "<style scoped>\n",
       "    .dataframe tbody tr th:only-of-type {\n",
       "        vertical-align: middle;\n",
       "    }\n",
       "\n",
       "    .dataframe tbody tr th {\n",
       "        vertical-align: top;\n",
       "    }\n",
       "\n",
       "    .dataframe thead th {\n",
       "        text-align: right;\n",
       "    }\n",
       "</style>\n",
       "<table border=\"1\" class=\"dataframe\">\n",
       "  <thead>\n",
       "    <tr style=\"text-align: right;\">\n",
       "      <th></th>\n",
       "      <th>importance</th>\n",
       "    </tr>\n",
       "  </thead>\n",
       "  <tbody>\n",
       "    <tr>\n",
       "      <th>Months_in_company</th>\n",
       "      <td>0.273462</td>\n",
       "    </tr>\n",
       "    <tr>\n",
       "      <th>Salary</th>\n",
       "      <td>0.156900</td>\n",
       "    </tr>\n",
       "    <tr>\n",
       "      <th>ManagerID</th>\n",
       "      <td>0.134224</td>\n",
       "    </tr>\n",
       "    <tr>\n",
       "      <th>Absences</th>\n",
       "      <td>0.084102</td>\n",
       "    </tr>\n",
       "    <tr>\n",
       "      <th>Age</th>\n",
       "      <td>0.072124</td>\n",
       "    </tr>\n",
       "    <tr>\n",
       "      <th>MaritalStatusID</th>\n",
       "      <td>0.056355</td>\n",
       "    </tr>\n",
       "    <tr>\n",
       "      <th>EngagementSurvey</th>\n",
       "      <td>0.047444</td>\n",
       "    </tr>\n",
       "    <tr>\n",
       "      <th>PositionID</th>\n",
       "      <td>0.044177</td>\n",
       "    </tr>\n",
       "    <tr>\n",
       "      <th>SpecialProjectsCount</th>\n",
       "      <td>0.022821</td>\n",
       "    </tr>\n",
       "    <tr>\n",
       "      <th>EmpSatisfaction</th>\n",
       "      <td>0.022427</td>\n",
       "    </tr>\n",
       "    <tr>\n",
       "      <th>GenderID</th>\n",
       "      <td>0.013545</td>\n",
       "    </tr>\n",
       "    <tr>\n",
       "      <th>PerfScoreID</th>\n",
       "      <td>0.012508</td>\n",
       "    </tr>\n",
       "    <tr>\n",
       "      <th>DeptID</th>\n",
       "      <td>0.011357</td>\n",
       "    </tr>\n",
       "    <tr>\n",
       "      <th>CitizenDesc_Eligible NonCitizen</th>\n",
       "      <td>0.009585</td>\n",
       "    </tr>\n",
       "    <tr>\n",
       "      <th>RaceDesc_White</th>\n",
       "      <td>0.008001</td>\n",
       "    </tr>\n",
       "    <tr>\n",
       "      <th>RaceDesc_Two or more races</th>\n",
       "      <td>0.006718</td>\n",
       "    </tr>\n",
       "    <tr>\n",
       "      <th>RaceDesc_Black or African American</th>\n",
       "      <td>0.006551</td>\n",
       "    </tr>\n",
       "    <tr>\n",
       "      <th>CitizenDesc_US Citizen</th>\n",
       "      <td>0.006204</td>\n",
       "    </tr>\n",
       "    <tr>\n",
       "      <th>DaysLateLast30</th>\n",
       "      <td>0.004939</td>\n",
       "    </tr>\n",
       "    <tr>\n",
       "      <th>CitizenDesc_Non-Citizen</th>\n",
       "      <td>0.003563</td>\n",
       "    </tr>\n",
       "    <tr>\n",
       "      <th>RaceDesc_Asian</th>\n",
       "      <td>0.002993</td>\n",
       "    </tr>\n",
       "    <tr>\n",
       "      <th>RaceDesc_American Indian or Alaska Native</th>\n",
       "      <td>0.000000</td>\n",
       "    </tr>\n",
       "    <tr>\n",
       "      <th>RaceDesc_Hispanic</th>\n",
       "      <td>0.000000</td>\n",
       "    </tr>\n",
       "  </tbody>\n",
       "</table>\n",
       "</div>"
      ],
      "text/plain": [
       "                                           importance\n",
       "Months_in_company                            0.273462\n",
       "Salary                                       0.156900\n",
       "ManagerID                                    0.134224\n",
       "Absences                                     0.084102\n",
       "Age                                          0.072124\n",
       "MaritalStatusID                              0.056355\n",
       "EngagementSurvey                             0.047444\n",
       "PositionID                                   0.044177\n",
       "SpecialProjectsCount                         0.022821\n",
       "EmpSatisfaction                              0.022427\n",
       "GenderID                                     0.013545\n",
       "PerfScoreID                                  0.012508\n",
       "DeptID                                       0.011357\n",
       "CitizenDesc_Eligible NonCitizen              0.009585\n",
       "RaceDesc_White                               0.008001\n",
       "RaceDesc_Two or more races                   0.006718\n",
       "RaceDesc_Black or African American           0.006551\n",
       "CitizenDesc_US Citizen                       0.006204\n",
       "DaysLateLast30                               0.004939\n",
       "CitizenDesc_Non-Citizen                      0.003563\n",
       "RaceDesc_Asian                               0.002993\n",
       "RaceDesc_American Indian or Alaska Native    0.000000\n",
       "RaceDesc_Hispanic                            0.000000"
      ]
     },
     "execution_count": 616,
     "metadata": {},
     "output_type": "execute_result"
    }
   ],
   "source": [
    "features_v = pd.DataFrame(model_v.feature_importances_, index = df_final.columns,\n",
    "                       columns = [\"importance\"]).sort_values(\"importance\", ascending=False)\n",
    "\n",
    "features_v"
   ]
  },
  {
   "cell_type": "code",
   "execution_count": 617,
   "metadata": {},
   "outputs": [
    {
     "data": {
      "image/png": "[encoded data removed]",
      "text/plain": [
       "<Figure size 1008x504 with 1 Axes>"
      ]
     },
     "metadata": {},
     "output_type": "display_data"
    }
   ],
   "source": [
    "plt.figure(figsize=(14,7))\n",
    "query2 = features_v.query(\"importance > 0.03\")\n",
    "sns.barplot(data=query2, y=query2.index, x=\"importance\", orient=\"h\")\n",
    "plt.xticks(rotation=90)\n",
    "plt.show()"
   ]
  },
  {
   "cell_type": "code",
   "execution_count": 625,
   "metadata": {},
   "outputs": [
    {
     "data": {
      "text/html": [
       "<div>\n",
       "<style scoped>\n",
       "    .dataframe tbody tr th:only-of-type {\n",
       "        vertical-align: middle;\n",
       "    }\n",
       "\n",
       "    .dataframe tbody tr th {\n",
       "        vertical-align: top;\n",
       "    }\n",
       "\n",
       "    .dataframe thead th {\n",
       "        text-align: right;\n",
       "    }\n",
       "</style>\n",
       "<table border=\"1\" class=\"dataframe\">\n",
       "  <thead>\n",
       "    <tr style=\"text-align: right;\">\n",
       "      <th></th>\n",
       "      <th>Turnover</th>\n",
       "      <th>Voluntary_turnover</th>\n",
       "    </tr>\n",
       "  </thead>\n",
       "  <tbody>\n",
       "    <tr>\n",
       "      <th>Absences</th>\n",
       "      <td>0.048212</td>\n",
       "      <td>0.084102</td>\n",
       "    </tr>\n",
       "    <tr>\n",
       "      <th>Age</th>\n",
       "      <td>0.040697</td>\n",
       "      <td>0.072124</td>\n",
       "    </tr>\n",
       "    <tr>\n",
       "      <th>CitizenDesc_Eligible NonCitizen</th>\n",
       "      <td>0.001246</td>\n",
       "      <td>0.009585</td>\n",
       "    </tr>\n",
       "    <tr>\n",
       "      <th>CitizenDesc_Non-Citizen</th>\n",
       "      <td>0.004395</td>\n",
       "      <td>0.003563</td>\n",
       "    </tr>\n",
       "    <tr>\n",
       "      <th>CitizenDesc_US Citizen</th>\n",
       "      <td>0.002170</td>\n",
       "      <td>0.006204</td>\n",
       "    </tr>\n",
       "    <tr>\n",
       "      <th>DaysLateLast30</th>\n",
       "      <td>0.017055</td>\n",
       "      <td>0.004939</td>\n",
       "    </tr>\n",
       "    <tr>\n",
       "      <th>DeptID</th>\n",
       "      <td>0.014603</td>\n",
       "      <td>0.011357</td>\n",
       "    </tr>\n",
       "    <tr>\n",
       "      <th>EmpSatisfaction</th>\n",
       "      <td>0.020378</td>\n",
       "      <td>0.022427</td>\n",
       "    </tr>\n",
       "    <tr>\n",
       "      <th>EngagementSurvey</th>\n",
       "      <td>0.039885</td>\n",
       "      <td>0.047444</td>\n",
       "    </tr>\n",
       "    <tr>\n",
       "      <th>GenderID</th>\n",
       "      <td>0.006551</td>\n",
       "      <td>0.013545</td>\n",
       "    </tr>\n",
       "    <tr>\n",
       "      <th>ManagerID</th>\n",
       "      <td>0.094828</td>\n",
       "      <td>0.134224</td>\n",
       "    </tr>\n",
       "    <tr>\n",
       "      <th>MaritalStatusID</th>\n",
       "      <td>0.018125</td>\n",
       "      <td>0.056355</td>\n",
       "    </tr>\n",
       "    <tr>\n",
       "      <th>Months_in_company</th>\n",
       "      <td>0.512238</td>\n",
       "      <td>0.273462</td>\n",
       "    </tr>\n",
       "    <tr>\n",
       "      <th>PerfScoreID</th>\n",
       "      <td>0.013050</td>\n",
       "      <td>0.012508</td>\n",
       "    </tr>\n",
       "    <tr>\n",
       "      <th>PositionID</th>\n",
       "      <td>0.017559</td>\n",
       "      <td>0.044177</td>\n",
       "    </tr>\n",
       "    <tr>\n",
       "      <th>RaceDesc_American Indian or Alaska Native</th>\n",
       "      <td>0.000000</td>\n",
       "      <td>0.000000</td>\n",
       "    </tr>\n",
       "    <tr>\n",
       "      <th>RaceDesc_Asian</th>\n",
       "      <td>0.001706</td>\n",
       "      <td>0.002993</td>\n",
       "    </tr>\n",
       "    <tr>\n",
       "      <th>RaceDesc_Black or African American</th>\n",
       "      <td>0.006751</td>\n",
       "      <td>0.006551</td>\n",
       "    </tr>\n",
       "    <tr>\n",
       "      <th>RaceDesc_Hispanic</th>\n",
       "      <td>0.000000</td>\n",
       "      <td>0.000000</td>\n",
       "    </tr>\n",
       "    <tr>\n",
       "      <th>RaceDesc_Two or more races</th>\n",
       "      <td>0.000428</td>\n",
       "      <td>0.006718</td>\n",
       "    </tr>\n",
       "    <tr>\n",
       "      <th>RaceDesc_White</th>\n",
       "      <td>0.005151</td>\n",
       "      <td>0.008001</td>\n",
       "    </tr>\n",
       "    <tr>\n",
       "      <th>Salary</th>\n",
       "      <td>0.082505</td>\n",
       "      <td>0.156900</td>\n",
       "    </tr>\n",
       "    <tr>\n",
       "      <th>SpecialProjectsCount</th>\n",
       "      <td>0.052468</td>\n",
       "      <td>0.022821</td>\n",
       "    </tr>\n",
       "  </tbody>\n",
       "</table>\n",
       "</div>"
      ],
      "text/plain": [
       "                                           Turnover  Voluntary_turnover\n",
       "Absences                                   0.048212            0.084102\n",
       "Age                                        0.040697            0.072124\n",
       "CitizenDesc_Eligible NonCitizen            0.001246            0.009585\n",
       "CitizenDesc_Non-Citizen                    0.004395            0.003563\n",
       "CitizenDesc_US Citizen                     0.002170            0.006204\n",
       "DaysLateLast30                             0.017055            0.004939\n",
       "DeptID                                     0.014603            0.011357\n",
       "EmpSatisfaction                            0.020378            0.022427\n",
       "EngagementSurvey                           0.039885            0.047444\n",
       "GenderID                                   0.006551            0.013545\n",
       "ManagerID                                  0.094828            0.134224\n",
       "MaritalStatusID                            0.018125            0.056355\n",
       "Months_in_company                          0.512238            0.273462\n",
       "PerfScoreID                                0.013050            0.012508\n",
       "PositionID                                 0.017559            0.044177\n",
       "RaceDesc_American Indian or Alaska Native  0.000000            0.000000\n",
       "RaceDesc_Asian                             0.001706            0.002993\n",
       "RaceDesc_Black or African American         0.006751            0.006551\n",
       "RaceDesc_Hispanic                          0.000000            0.000000\n",
       "RaceDesc_Two or more races                 0.000428            0.006718\n",
       "RaceDesc_White                             0.005151            0.008001\n",
       "Salary                                     0.082505            0.156900\n",
       "SpecialProjectsCount                       0.052468            0.022821"
      ]
     },
     "execution_count": 625,
     "metadata": {},
     "output_type": "execute_result"
    }
   ],
   "source": [
    "features.sort_index(inplace=True)\n",
    "features_v.sort_index(inplace=True)\n",
    "\n",
    "comp = features.merge(features_v, left_index=True, right_index=True)\n",
    "\n",
    "comp.rename(columns={\"importance_x\":\"Turnover\", \"importance_y\":\"Voluntary_turnover\"},inplace=True)\n",
    "\n",
    "comp\n"
   ]
  },
  {
   "cell_type": "code",
   "execution_count": 656,
   "metadata": {},
   "outputs": [
    {
     "data": {
      "image/png": "[encoded data removed]",
      "text/plain": [
       "<Figure size 1008x720 with 1 Axes>"
      ]
     },
     "metadata": {},
     "output_type": "display_data"
    }
   ],
   "source": [
    "comp2 = comp.query(\"Turnover > 0.03 & Voluntary_turnover > 0.03\")\n",
    "comp2.plot(kind=\"barh\", figsize=(14,10))\n",
    "plt.show()"
   ]
  },
  {
   "cell_type": "code",
   "execution_count": null,
   "metadata": {},
   "outputs": [],
   "source": []
  }
 ],
 "metadata": {
  "kernelspec": {
   "display_name": "Python 3",
   "language": "python",
   "name": "python3"
  },
  "language_info": {
   "codemirror_mode": {
    "name": "ipython",
    "version": 3
   },
   "file_extension": ".py",
   "mimetype": "text/x-python",
   "name": "python",
   "nbconvert_exporter": "python",
   "pygments_lexer": "ipython3",
   "version": "3.7.9"
  },
  "toc": {
   "base_numbering": 1,
   "nav_menu": {},
   "number_sections": true,
   "sideBar": true,
   "skip_h1_title": false,
   "title_cell": "Table of Contents",
   "title_sidebar": "Contents",
   "toc_cell": false,
   "toc_position": {
    "height": "calc(100% - 180px)",
    "left": "10px",
    "top": "150px",
    "width": "307.181px"
   },
   "toc_section_display": true,
   "toc_window_display": true
  }
 },
 "nbformat": 4,
 "nbformat_minor": 4
}
